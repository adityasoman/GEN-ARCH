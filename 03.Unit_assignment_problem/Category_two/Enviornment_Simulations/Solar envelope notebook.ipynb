{
 "cells": [
  {
   "cell_type": "markdown",
   "metadata": {},
   "source": [
    "# Notebook Contents"
   ]
  },
  {
   "cell_type": "markdown",
   "metadata": {},
   "source": [
    "In this notebook the solar access lattice is calculated for the voxelated grid. \n",
    "The sun positions are calculated for the location of the site in Buiksloterham using the library https://www.ladybug.tools/ladybug/docs/_modules/ladybug/sunpath.html\n",
    "The centroids for the voxels are found using the library https://topogenesis.readthedocs.io/\n",
    "and intersection percentages are calulated with the context of the building massing and the site using the library https://trimsh.org/trimesh.html"
   ]
  },
  {
   "cell_type": "markdown",
   "metadata": {},
   "source": [
    "# Initilization"
   ]
  },
  {
   "cell_type": "code",
   "execution_count": 1,
   "metadata": {},
   "outputs": [],
   "source": [
    "import os\n",
    "import sys\n",
    "import topogenesis as tg\n",
    "import pyvista as pv\n",
    "import trimesh as tm\n",
    "from itertools import cycle\n",
    "import numpy as np\n",
    "import pickle\n",
    "import numpy.ma as ma\n",
    "np.random.seed(0)\n",
    "np.set_printoptions(threshold=sys.maxsize)\n",
    "from ladybug.sunpath import Sunpath"
   ]
  },
  {
   "cell_type": "code",
   "execution_count": 2,
   "metadata": {},
   "outputs": [
    {
     "name": "stderr",
     "output_type": "stream",
     "text": [
      "faces have mixed data, using slow fallback!\n",
      "faces have mixed data, using slow fallback!\n",
      "faces have mixed data, using slow fallback!\n",
      "faces have mixed data, using slow fallback!\n",
      "faces have mixed data, using slow fallback!\n",
      "faces have mixed data, using slow fallback!\n",
      "faces have mixed data, using slow fallback!\n",
      "faces have mixed data, using slow fallback!\n",
      "faces have mixed data, using slow fallback!\n",
      "faces have mixed data, using slow fallback!\n",
      "faces have mixed data, using slow fallback!\n",
      "faces have mixed data, using slow fallback!\n"
     ]
    }
   ],
   "source": [
    "#Design Details\n",
    "Self_development_plots_path = os.path.relpath('Site_self_development_plots.obj')\n",
    "Self_development_backyards_path = os.path.relpath('Site_self_development_backyards.obj')\n",
    "Site_buildings_path = os.path.relpath('Site_buildings.obj')\n",
    "Site_green_areas_path = os.path.relpath('Site_green_areas.obj')\n",
    "Site_roads_path = os.path.relpath('Site_base_roads.obj')\n",
    "Site_context_shading_path= os.path.relpath('Site_surrounding_buildings_for_shading.obj') \n",
    "Context_mesh_for_building_one_path = os.path.relpath('Context_for_building_one.obj') \n",
    "Context_mesh_for_building_two_and_three_path = os.path.relpath('Context_for_building_two_three.obj') \n",
    "Context_mesh_for_building_four_path = os.path.relpath('Context_for_building_four.obj') \n",
    "\n",
    "# Site details\n",
    "Site_base_path = os.path.relpath('Site_base_block.obj')\n",
    "Site_surrounding_buildings_path = os.path.relpath('Site_surrounding_buildings.obj')\n",
    "Site_water_bodies_path = os.path.relpath('Site_water_bodies.obj')\n",
    "Site_roads_path = os.path.relpath('Site_roads.obj')\n",
    "Site_other_buildings_path = os.path.relpath('Site_other_buildings.obj')\n",
    "\n",
    "# load the mesh from file\n",
    "# Design elements\n",
    "Self_development_plots_mesh = tm.load(Self_development_plots_path)\n",
    "Self_development_backyards_mesh = tm.load(Self_development_backyards_path)\n",
    "Site_building_mesh = tm.load(Site_buildings_path)\n",
    "Site_green_areas_mesh = tm.load(Site_green_areas_path)\n",
    "Site_roads_mesh = tm.load(Site_roads_path)\n",
    "Site_context_shading_mesh = tm.load(Site_context_shading_path)\n",
    "Context_mesh_for_building_one_mesh = tm.load(Context_mesh_for_building_one_path)\n",
    "Context_mesh_for_building_two_and_three_mesh =tm.load(Context_mesh_for_building_two_and_three_path)\n",
    "Context_mesh_for_building_four_mesh =tm.load(Context_mesh_for_building_four_path)\n",
    "\n",
    "#Site elements\n",
    "Site_base_mesh = tm.load(Site_base_path)\n",
    "Site_surrounding_buildings_mesh = tm.load(Site_surrounding_buildings_path)\n",
    "Site_water_bodies_mesh = tm.load(Site_water_bodies_path)\n",
    "Site_roads_mesh = tm.load(Site_roads_path)\n",
    "Site_other_buildings_mesh = tm.load(Site_other_buildings_path)\n",
    "\n",
    "\n",
    "# Check if the mesh is watertight\n",
    "#print(envelope_mesh.is_watertight)\n",
    "#print(context_mesh.is_watertight)"
   ]
  },
  {
   "cell_type": "code",
   "execution_count": null,
   "metadata": {},
   "outputs": [],
   "source": []
  },
  {
   "cell_type": "code",
   "execution_count": 3,
   "metadata": {},
   "outputs": [
    {
     "data": {
      "application/vnd.jupyter.widget-view+json": {
       "model_id": "fa4e317200fb4ce8ac4ebd9fd928590a",
       "version_major": 2,
       "version_minor": 0
      },
      "text/plain": [
       "ViewInteractiveWidget(height=768, layout=Layout(height='auto', width='100%'), width=1024)"
      ]
     },
     "metadata": {},
     "output_type": "display_data"
    },
    {
     "data": {
      "text/plain": [
       "[(1563.6562028391934, 1809.440031574545, 1616.2765183909512),\n",
       " (-142.0987091064453, 103.68511962890625, -89.4783935546875),\n",
       " (0.0, 0.0, 1.0)]"
      ]
     },
     "execution_count": 3,
     "metadata": {},
     "output_type": "execute_result"
    }
   ],
   "source": [
    "# convert mesh to pv_mesh\n",
    "def tri_to_pv(tri_mesh):\n",
    "    faces = np.pad(tri_mesh.faces, ((0, 0),(1,0)), 'constant', constant_values=3)\n",
    "    pv_mesh = pv.PolyData(tri_mesh.vertices, faces)\n",
    "    return pv_mesh\n",
    "\n",
    "# initiating the plotter\n",
    "p = pv.Plotter(notebook=True)\n",
    "\n",
    "# adding the meshes\n",
    "# Design meshes\n",
    "p.add_mesh(tri_to_pv(Self_development_plots_mesh), color='#b8f2e6')\n",
    "p.add_mesh(tri_to_pv(Self_development_backyards_mesh), color='#8ac926')\n",
    "p.add_mesh(tri_to_pv(Site_building_mesh), color='#f4acb7')\n",
    "p.add_mesh(tri_to_pv(Site_green_areas_mesh), color='#8ac926')\n",
    "p.add_mesh(tri_to_pv(Site_roads_mesh), color='#adb5bd')\n",
    "\n",
    "#Site meshes\n",
    "p.add_mesh(tri_to_pv(Site_base_mesh), color='#faedcd')\n",
    "p.add_mesh(tri_to_pv(Site_surrounding_buildings_mesh), color='#cdb4db')\n",
    "p.add_mesh(tri_to_pv(Site_water_bodies_mesh), color='#bde0fe',opacity= 0.5)\n",
    "p.add_mesh(tri_to_pv(Site_roads_mesh), color='#adb5bd')\n",
    "p.add_mesh(tri_to_pv(Site_other_buildings_mesh), color='#cdb4db')\n",
    "\n",
    "\n",
    "# plotting\n",
    "p.show(use_ipyvtk=True)"
   ]
  },
  {
   "cell_type": "markdown",
   "metadata": {},
   "source": [
    "# Import lattice"
   ]
  },
  {
   "cell_type": "code",
   "execution_count": 4,
   "metadata": {},
   "outputs": [],
   "source": [
    "# loading the lattice from csv\n",
    "lattice_path = os.path.relpath('voxelized_envelope_3m_voxel_size_for_offices.csv')\n",
    "envelope_lattice = tg.lattice_from_csv(lattice_path)"
   ]
  },
  {
   "cell_type": "markdown",
   "metadata": {},
   "source": [
    "# Find Voxel Eucledian Coordinates"
   ]
  },
  {
   "cell_type": "code",
   "execution_count": 5,
   "metadata": {},
   "outputs": [],
   "source": [
    "# convert to lattice\n",
    "init_lattice = envelope_lattice +1\n",
    "availability_lattice_voxels = tg.to_lattice(init_lattice, init_lattice)\n",
    "voxel_coordinates= envelope_lattice.centroids\n",
    "voxel_coordinates_full_lattice = init_lattice.centroids\n",
    "flattened_lattice = envelope_lattice.flatten()"
   ]
  },
  {
   "cell_type": "code",
   "execution_count": 6,
   "metadata": {},
   "outputs": [],
   "source": [
    "Y_coordinates= voxel_coordinates.T[1].flatten()"
   ]
  },
  {
   "cell_type": "code",
   "execution_count": 7,
   "metadata": {},
   "outputs": [],
   "source": [
    "Full_lattice_Y_coordinates = voxel_coordinates_full_lattice.T[1].flatten()"
   ]
  },
  {
   "cell_type": "code",
   "execution_count": 8,
   "metadata": {},
   "outputs": [],
   "source": [
    "Building_one =[]\n",
    "Building_one_indexes =[]\n",
    "Building_two_three =[]\n",
    "Building_two_three_indexes =[]\n",
    "Building_four =[]\n",
    "Building_four_indexes =[]\n",
    "not_in_a_building =[]\n",
    "for center,coordinate,index in zip(Full_lattice_Y_coordinates,voxel_coordinates_full_lattice,range(len(Full_lattice_Y_coordinates))):\n",
    "    if center >= 18 and center <= 30:\n",
    "        Building_one.append(coordinate)\n",
    "        Building_one_indexes.append(index)\n",
    "        #print(\"1st\")\n",
    "    elif center >= 40 and center <= 82:\n",
    "        Building_two_three.append(coordinate)\n",
    "        Building_two_three_indexes.append(index)\n",
    "       # print(\"2nd\")\n",
    "    elif center >= 82:\n",
    "        Building_four.append(coordinate)\n",
    "        Building_four_indexes.append(index)\n",
    "        #print(\"3rd\")\n",
    "    else:\n",
    "        not_in_a_building.append(coordinate)\n",
    "    "
   ]
  },
  {
   "cell_type": "code",
   "execution_count": 9,
   "metadata": {},
   "outputs": [
    {
     "data": {
      "text/plain": [
       "[]"
      ]
     },
     "execution_count": 9,
     "metadata": {},
     "output_type": "execute_result"
    }
   ],
   "source": [
    "Building_one_indexes"
   ]
  },
  {
   "cell_type": "markdown",
   "metadata": {},
   "source": [
    "# Visualize the Context Mesh + Envelope Lattice"
   ]
  },
  {
   "cell_type": "code",
   "execution_count": 10,
   "metadata": {},
   "outputs": [
    {
     "data": {
      "application/vnd.jupyter.widget-view+json": {
       "model_id": "160fedea57714b8eadd3ac92ff83cd4e",
       "version_major": 2,
       "version_minor": 0
      },
      "text/plain": [
       "ViewInteractiveWidget(height=768, layout=Layout(height='auto', width='100%'), width=1024)"
      ]
     },
     "metadata": {},
     "output_type": "display_data"
    },
    {
     "data": {
      "text/plain": [
       "[(1563.6562028391934, 1809.440031574545, 1616.2765183909512),\n",
       " (-142.0987091064453, 103.68511962890625, -89.4783935546875),\n",
       " (0.0, 0.0, 1.0)]"
      ]
     },
     "execution_count": 10,
     "metadata": {},
     "output_type": "execute_result"
    }
   ],
   "source": [
    "# convert mesh to pv_mesh\n",
    "def tri_to_pv(tri_mesh):\n",
    "    faces = np.pad(tri_mesh.faces, ((0, 0),(1,0)), 'constant', constant_values=3)\n",
    "    pv_mesh = pv.PolyData(tri_mesh.vertices, faces)\n",
    "    return pv_mesh\n",
    "\n",
    "# initiating the plotter\n",
    "p = pv.Plotter(notebook=True)\n",
    "\n",
    "# fast visualization of the lattice\n",
    "envelope_lattice.fast_vis(p)\n",
    "\n",
    "# adding the meshes\n",
    "\n",
    "# Design meshes\n",
    "p.add_mesh(tri_to_pv(Self_development_plots_mesh), color='#b8f2e6')\n",
    "p.add_mesh(tri_to_pv(Self_development_backyards_mesh), color='#8ac926')\n",
    "p.add_mesh(tri_to_pv(Site_building_mesh), color='#ff9b54',opacity = 0.3)\n",
    "p.add_mesh(tri_to_pv(Site_green_areas_mesh), color='#8ac926')\n",
    "p.add_mesh(tri_to_pv(Site_roads_mesh), color='#adb5bd')\n",
    "\n",
    "#Site meshes\n",
    "p.add_mesh(tri_to_pv(Site_base_mesh), color='#faedcd')\n",
    "p.add_mesh(tri_to_pv(Site_surrounding_buildings_mesh), color='#cdb4db')\n",
    "p.add_mesh(tri_to_pv(Site_water_bodies_mesh), color='#bde0fe',opacity= 0.5)\n",
    "p.add_mesh(tri_to_pv(Site_roads_mesh), color='#adb5bd')\n",
    "p.add_mesh(tri_to_pv(Site_other_buildings_mesh), color='#cdb4db')\n",
    "# plotting\n",
    "p.show(use_ipyvtk=True)"
   ]
  },
  {
   "cell_type": "markdown",
   "metadata": {},
   "source": [
    "# Sunvectors"
   ]
  },
  {
   "cell_type": "markdown",
   "metadata": {},
   "source": [
    "## Compute sun vectors"
   ]
  },
  {
   "cell_type": "code",
   "execution_count": 11,
   "metadata": {},
   "outputs": [
    {
     "name": "stdout",
     "output_type": "stream",
     "text": [
      "(154, 3)\n"
     ]
    }
   ],
   "source": [
    "# initiate sunpath\n",
    "sp = Sunpath(longitude=4.90, latitude=52.39)\n",
    "\n",
    "# define sun hours : A list of hours of the year for each sun vector\n",
    "# there are 8760 hours in a year, so the following integers refer to specific hours throughout the year\n",
    "hoys = []\n",
    "sun_vectors = []\n",
    "day_multiples = 30\n",
    "for d in range(365):\n",
    "    if d%day_multiples==0:\n",
    "        for h in range(24):\n",
    "            i = d*24 + h\n",
    "            # compute the sun object\n",
    "            sun = sp.calculate_sun_from_hoy(i)\n",
    "            # extract the sun vector\n",
    "            sun_vector = sun.sun_vector.to_array()\n",
    "            # apparantly, if the Z component of sun vector is positive, \n",
    "            # it is under the horizon \n",
    "            if sun_vector[2] < 0.0:\n",
    "                hoys.append(i)\n",
    "                sun_vectors.append(sun_vector)\n",
    "                \n",
    "sun_vectors = np.array(sun_vectors)\n",
    "# compute the rotation matrix \n",
    "Rz = tm.transformations.rotation_matrix(np.radians(36.324), [0,0,1])\n",
    "# Rotate the sun vectors to match the site rotation\n",
    "sun_vectors = tm.transform_points(sun_vectors, Rz)\n",
    "print(sun_vectors.shape)"
   ]
  },
  {
   "cell_type": "code",
   "execution_count": null,
   "metadata": {},
   "outputs": [],
   "source": []
  },
  {
   "cell_type": "code",
   "execution_count": 12,
   "metadata": {},
   "outputs": [
    {
     "data": {
      "application/vnd.jupyter.widget-view+json": {
       "model_id": "8669430915f9458e94854289e8b506bf",
       "version_major": 2,
       "version_minor": 0
      },
      "text/plain": [
       "ViewInteractiveWidget(height=768, layout=Layout(height='auto', width='100%'), width=1024)"
      ]
     },
     "metadata": {},
     "output_type": "display_data"
    },
    {
     "data": {
      "text/plain": [
       "[(1621.503249013592, 1867.2870777489436, 1774.9954138548158),\n",
       " (-142.0987091064453, 103.68511962890625, 11.393455734778485),\n",
       " (0.0, 0.0, 1.0)]"
      ]
     },
     "execution_count": 12,
     "metadata": {},
     "output_type": "execute_result"
    }
   ],
   "source": [
    "# convert mesh to pv_mesh\n",
    "def tri_to_pv(tri_mesh):\n",
    "    faces = np.pad(tri_mesh.faces, ((0, 0),(1,0)), 'constant', constant_values=3)\n",
    "    pv_mesh = pv.PolyData(tri_mesh.vertices, faces)\n",
    "    return pv_mesh\n",
    "\n",
    "# Visualize the mesh using pyvista plotter\n",
    "#######\n",
    "\n",
    "# initiating the plotter\n",
    "p = pv.Plotter(notebook=True)\n",
    "\n",
    "# fast visualization of the lattice\n",
    "envelope_lattice.fast_vis(p)\n",
    "\n",
    "# adding the meshes\n",
    "p.add_mesh(tri_to_pv(Self_development_plots_mesh), color='#b8f2e6')\n",
    "p.add_mesh(tri_to_pv(Self_development_backyards_mesh), color='#8ac926')\n",
    "p.add_mesh(tri_to_pv(Site_building_mesh), color='#ff9b54',opacity = 0.3)\n",
    "p.add_mesh(tri_to_pv(Site_green_areas_mesh), color='#8ac926')\n",
    "p.add_mesh(tri_to_pv(Site_roads_mesh), color='#adb5bd')\n",
    "\n",
    "#Site meshes\n",
    "p.add_mesh(tri_to_pv(Site_base_mesh), color='#faedcd')\n",
    "p.add_mesh(tri_to_pv(Site_surrounding_buildings_mesh), color='#cdb4db')\n",
    "p.add_mesh(tri_to_pv(Site_water_bodies_mesh), color='#bde0fe',opacity= 0.5)\n",
    "p.add_mesh(tri_to_pv(Site_roads_mesh), color='#adb5bd')\n",
    "p.add_mesh(tri_to_pv(Site_other_buildings_mesh), color='#cdb4db')\n",
    "\n",
    "# add the sun locations, color orange\n",
    "p.add_points( - sun_vectors * 300, color='#ffa500')\n",
    "\n",
    "# plotting\n",
    "p.show(use_ipyvtk=True)"
   ]
  },
  {
   "cell_type": "markdown",
   "metadata": {},
   "source": [
    "# Compute Intersection of Sun Rays with Context Mesh\n",
    "\n",
    "### Preparing the List of Ray Directions and Origins"
   ]
  },
  {
   "cell_type": "code",
   "execution_count": 13,
   "metadata": {},
   "outputs": [
    {
     "name": "stdout",
     "output_type": "stream",
     "text": [
      "number of rays per each voxel : (154, 3)\n"
     ]
    }
   ],
   "source": [
    "# constructing the sun direction from the sun vectors in a numpy array\n",
    "sun_dirs = -np.array(sun_vectors)\n",
    "\n",
    "\n",
    "# next step we need to shoot in all of the sun directions from all of the voxels, todo so, we need repeat the sun direction for the number of voxels to construct the ray_dir (which is the list of all ray directions). We need to repeat the voxels for the \n",
    "\n",
    "# Further info: this is the vectorised version of nested for loops\n",
    "ray_dir_building_one = np.tile(sun_dirs, [len(Building_one),1])\n",
    "ray_src_building_one = np.tile(Building_one, [1, len(sun_dirs)]).reshape(-1, 3)\n",
    "\n",
    "ray_dir_building_two_and_three = np.tile(sun_dirs, [len(Building_two_three),1])\n",
    "ray_src_building_two_and_three = np.tile(Building_two_three, [1, len(sun_dirs)]).reshape(-1, 3)\n",
    "\n",
    "ray_dir_building_four = np.tile(sun_dirs, [len(Building_four),1])\n",
    "ray_src_building_four = np.tile(Building_four, [1, len(sun_dirs)]).reshape(-1, 3)\n",
    "\n",
    "#print(\"number of voxels to shoot rays from :\",vox_cens.shape)\n",
    "print(\"number of rays per each voxel :\",sun_dirs.shape)\n",
    "#print(\"number of rays to be shooted :\",ray_src.shape)"
   ]
  },
  {
   "cell_type": "markdown",
   "metadata": {},
   "source": [
    "# Computing the Intersection"
   ]
  },
  {
   "cell_type": "code",
   "execution_count": 14,
   "metadata": {},
   "outputs": [],
   "source": [
    "# computing the intersections of rays with the context mesh\n",
    "#tri_id_building_one, ray_id_building_one = Context_mesh_for_building_one_mesh.ray.intersects_id(ray_origins=ray_src_building_one, ray_directions=ray_dir_building_one, multiple_hits=False)\n",
    "#tri_id_building_two_and_three, ray_id_building_two_and_three = Context_mesh_for_building_two_and_three_mesh.ray.intersects_id(ray_origins=ray_src_building_two_and_three, ray_directions=ray_dir_building_two_and_three, multiple_hits=False)\n",
    "tri_id_building_four, ray_id_building_four = Context_mesh_for_building_four_mesh.ray.intersects_id(ray_origins=ray_src_building_four, ray_directions=ray_dir_building_four, multiple_hits=False)\n"
   ]
  },
  {
   "cell_type": "markdown",
   "metadata": {},
   "source": [
    "## Aggregate Simulation Result in the Sun Access Lattice\n",
    "\n",
    "###  Compute the percentage of time that each voxel sees the sun"
   ]
  },
  {
   "cell_type": "code",
   "execution_count": 15,
   "metadata": {},
   "outputs": [],
   "source": [
    "def percentage_of_time_each_voxel_sees_the_sun(ray_dir,ray_id,sun_dirs,vox_cens):\n",
    "    # initializing the hits list full of zeros\n",
    "    hits = [0]*len(ray_dir)\n",
    "    # setting the rays that had an intersection to 1\n",
    "    for id in ray_id:\n",
    "        hits[id] = 1\n",
    "\n",
    "    sun_count = len(sun_dirs)\n",
    "    vox_count = len(vox_cens)\n",
    "    # initiating the list of ratio\n",
    "    vox_sun_acc = []\n",
    "    # iterate over the voxels\n",
    "    for v_id in range(vox_count):\n",
    "        # counter for the intersection\n",
    "        int_count = 0\n",
    "        # iterate over the sun rays\n",
    "        for s_id in range(sun_count):\n",
    "            # computing the ray id from voxel id and sun id\n",
    "            r_id = v_id * sun_count + s_id\n",
    "\n",
    "            # summing the intersections\n",
    "            int_count += hits[r_id]\n",
    "\n",
    "        # computing the percentage of the rays that DID NOT have \n",
    "        # an intersection (aka could see the sun)\n",
    "        sun_access = 1.0 - int_count/sun_count\n",
    "\n",
    "        # add the ratio to list\n",
    "        vox_sun_acc.append(sun_access)\n",
    "\n",
    "    hits = np.array(hits)\n",
    "    vox_sun_acc = np.array(vox_sun_acc)\n",
    "\n",
    "    return hits , vox_sun_acc\n",
    "\n",
    "\n"
   ]
  },
  {
   "cell_type": "code",
   "execution_count": 16,
   "metadata": {},
   "outputs": [],
   "source": [
    "#percent_for_building_one= percentage_of_time_each_voxel_sees_the_sun(ray_dir_building_one,ray_id_building_one,sun_dirs,Building_one)\n",
    "#percent_for_building_two_and_three= percentage_of_time_each_voxel_sees_the_sun(ray_dir_building_two_and_three,ray_id_building_two_and_three,sun_dirs,Building_two_three)\n",
    "percent_for_building_Four= percentage_of_time_each_voxel_sees_the_sun(ray_dir_building_four,ray_id_building_four,sun_dirs,Building_four)"
   ]
  },
  {
   "cell_type": "markdown",
   "metadata": {},
   "source": [
    "### 5.2. Store sun access information in a Lattice"
   ]
  },
  {
   "cell_type": "code",
   "execution_count": 17,
   "metadata": {},
   "outputs": [
    {
     "data": {
      "text/plain": [
       "1.0"
      ]
     },
     "execution_count": 17,
     "metadata": {},
     "output_type": "execute_result"
    }
   ],
   "source": [
    "percent_for_building_Four[1][np.argmax(percent_for_building_Four[1])]"
   ]
  },
  {
   "cell_type": "code",
   "execution_count": 18,
   "metadata": {},
   "outputs": [],
   "source": [
    "Dummy_lattice = np.copy(Full_lattice_Y_coordinates)"
   ]
  },
  {
   "cell_type": "code",
   "execution_count": 19,
   "metadata": {},
   "outputs": [
    {
     "data": {
      "text/plain": [
       "'\\nfor index,value in zip(Building_one_indexes,percent_for_building_one[1]):\\n    Dummy_lattice[index]= value\\n'"
      ]
     },
     "execution_count": 19,
     "metadata": {},
     "output_type": "execute_result"
    }
   ],
   "source": [
    "\"\"\"\n",
    "for index,value in zip(Building_one_indexes,percent_for_building_one[1]):\n",
    "    Dummy_lattice[index]= value\n",
    "\"\"\""
   ]
  },
  {
   "cell_type": "code",
   "execution_count": 20,
   "metadata": {},
   "outputs": [
    {
     "data": {
      "text/plain": [
       "'\\nfor index,value in zip(Building_two_three_indexes,percent_for_building_two_and_three[1]):\\n    Dummy_lattice[index]= value\\n'"
      ]
     },
     "execution_count": 20,
     "metadata": {},
     "output_type": "execute_result"
    }
   ],
   "source": [
    "\"\"\"\n",
    "for index,value in zip(Building_two_three_indexes,percent_for_building_two_and_three[1]):\n",
    "    Dummy_lattice[index]= value\n",
    "\"\"\""
   ]
  },
  {
   "cell_type": "code",
   "execution_count": 21,
   "metadata": {},
   "outputs": [],
   "source": [
    "for index,value in zip(Building_four_indexes,percent_for_building_Four[1]):\n",
    "    Dummy_lattice[index]= value"
   ]
  },
  {
   "cell_type": "code",
   "execution_count": 22,
   "metadata": {},
   "outputs": [],
   "source": [
    "Solar_lattice_padded= np.array([num if boolean else 0 for boolean, num in zip(flattened_lattice, cycle(Dummy_lattice))])"
   ]
  },
  {
   "cell_type": "code",
   "execution_count": 23,
   "metadata": {},
   "outputs": [],
   "source": [
    "Solar_lattice_padded_np =  Solar_lattice_padded.reshape(envelope_lattice.shape)"
   ]
  },
  {
   "cell_type": "code",
   "execution_count": 31,
   "metadata": {},
   "outputs": [],
   "source": [
    "Solar_lattice = tg.to_lattice(Solar_lattice_padded_np, Solar_lattice_padded_np.shape)"
   ]
  },
  {
   "cell_type": "code",
   "execution_count": 41,
   "metadata": {},
   "outputs": [],
   "source": [
    "Solar_lattice[:,3:5,:]=0"
   ]
  },
  {
   "cell_type": "markdown",
   "metadata": {},
   "source": [
    "# Vizualise the sun access lattice "
   ]
  },
  {
   "cell_type": "code",
   "execution_count": 42,
   "metadata": {},
   "outputs": [
    {
     "data": {
      "application/vnd.jupyter.widget-view+json": {
       "model_id": "e178fe6b26874ad0849de38926c0779a",
       "version_major": 2,
       "version_minor": 0
      },
      "text/plain": [
       "ViewInteractiveWidget(height=768, layout=Layout(height='auto', width='100%'), width=1024)"
      ]
     },
     "metadata": {},
     "output_type": "display_data"
    },
    {
     "data": {
      "text/plain": [
       "[(-30.918138503987137, 252.13468433505227, 141.27150258463084),\n",
       " (-132.52727934148325, 29.061346168534897, -31.80320438629297),\n",
       " (-0.1996427382461422, -0.5422754627817726, 0.8161373043369582)]"
      ]
     },
     "execution_count": 42,
     "metadata": {},
     "output_type": "execute_result"
    }
   ],
   "source": [
    "# initiating the plotter\n",
    "p = pv.Plotter(notebook=True)\n",
    "\n",
    "# Create the spatial reference\n",
    "grid = pv.UniformGrid()\n",
    "\n",
    "# Set the grid envelope_lattice: shape because we want to inject our values\n",
    "grid.dimensions = envelope_lattice.shape\n",
    "# The bottom left corner of the data set\n",
    "grid.origin = envelope_lattice.minbound\n",
    "# These are the cell sizes along each axis\n",
    "grid.spacing = envelope_lattice.unit\n",
    "\n",
    "# Add the data values to the cell data\n",
    "grid.point_arrays[\"Solar Access\"] = Solar_lattice.flatten(order=\"F\")  # Flatten the Lattice\n",
    "\n",
    "# fast visualization of the lattice\n",
    "envelope_lattice.fast_vis(p)\n",
    "\n",
    "# adding the meshes\n",
    "#p.add_mesh(tri_to_pv(Self_development_plots_mesh), color='#b8f2e6')\n",
    "p.add_mesh(tri_to_pv(Self_development_backyards_mesh), color='#8ac926')\n",
    "p.add_mesh(tri_to_pv(Site_building_mesh), color='#ff9b54',opacity = 0.3)\n",
    "p.add_mesh(tri_to_pv(Site_green_areas_mesh), color='#8ac926')\n",
    "p.add_mesh(tri_to_pv(Site_roads_mesh), color='#adb5bd')\n",
    "\n",
    "#Site meshes\n",
    "p.add_mesh(tri_to_pv(Site_base_mesh), color='#faedcd')\n",
    "p.add_mesh(tri_to_pv(Site_other_buildings_mesh), color='#cdb4db')\n",
    "p.add_mesh(tri_to_pv(Site_water_bodies_mesh), color='#bde0fe',opacity= 0.5)\n",
    "p.add_mesh(tri_to_pv(Site_roads_mesh), color='#adb5bd')\n",
    "p.add_mesh(tri_to_pv(Site_context_shading_mesh), color='#cdb4db')\n",
    "    \n",
    "# adding the volume\n",
    "\n",
    "opacity = [0, 0.75, 0.7, 0.75, 0.8]\n",
    "clim = [0, 100]\n",
    "p.add_volume(grid, cmap=\"inferno\", opacity=opacity, shade=False)\n",
    "# plotting\n",
    "p.add_points( - sun_vectors * 300, color='#ffa500')\n",
    "p.camera_position = [(-30.918138503987137, 252.13468433505227, 141.27150258463084),\n",
    " (-132.52727934148325, 29.061346168534897, -31.80320438629297),\n",
    " (-0.1996427382461422, -0.5422754627817726, 0.8161373043369582)]\n",
    "p.show(use_ipyvtk=True,screenshot='Solar_lattice.png')"
   ]
  },
  {
   "cell_type": "markdown",
   "metadata": {},
   "source": [
    "# Save Pickle Lattice"
   ]
  },
  {
   "cell_type": "code",
   "execution_count": 43,
   "metadata": {},
   "outputs": [],
   "source": [
    "#Solar_access_mtrx = pickle.dump( Solar_lattice, open( \"Solar_access_lattice_zeroed.p\", \"wb\" ) )"
   ]
  },
  {
   "cell_type": "code",
   "execution_count": null,
   "metadata": {},
   "outputs": [],
   "source": []
  }
 ],
 "metadata": {
  "hide_input": false,
  "kernelspec": {
   "display_name": "Python 3",
   "language": "python",
   "name": "python3"
  },
  "language_info": {
   "codemirror_mode": {
    "name": "ipython",
    "version": 3
   },
   "file_extension": ".py",
   "mimetype": "text/x-python",
   "name": "python",
   "nbconvert_exporter": "python",
   "pygments_lexer": "ipython3",
   "version": "3.8.4"
  }
 },
 "nbformat": 4,
 "nbformat_minor": 4
}
