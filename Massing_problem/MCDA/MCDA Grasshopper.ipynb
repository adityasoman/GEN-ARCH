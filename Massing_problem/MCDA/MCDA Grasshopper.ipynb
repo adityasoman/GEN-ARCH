{
 "cells": [
  {
   "cell_type": "markdown",
   "metadata": {},
   "source": [
    "# Decision making process for Stage 1 Massing problem \n",
    "Save the grasshopper simulations into an excel file and then convert the excel file into data frame using pandas \n",
    "use Ipywidgets to give weights and set the max and min for the criteria. Rank and check the options using various MCDM methods provided in the SCi_kit criteria and proceed with the best options for Stage 2"
   ]
  },
  {
   "cell_type": "markdown",
   "metadata": {},
   "source": [
    "# Initlization"
   ]
  },
  {
   "cell_type": "code",
   "execution_count": 1,
   "metadata": {},
   "outputs": [],
   "source": [
    "import os\n",
    "from skcriteria import Data, MIN, MAX\n",
    "from skcriteria.madm import closeness, simple ,moora , electre\n",
    "import pandas as pd\n",
    "import collections \n",
    "import sys\n",
    "from math import factorial as fac\n",
    "sys.path.append(\"D:/TU_Delft/Msc_Building_Technology/Semester_3/Graduation/Aditya_Graduation_Project_BT/06_Libraries\")\n",
    "import numpy as np\n",
    "np.random.seed(0)\n",
    "np.set_printoptions(threshold=sys.maxsize)\n",
    "from ipywidgets import interact, interactive, fixed, interact_manual , Layout\n",
    "import ipywidgets as widgets"
   ]
  },
  {
   "cell_type": "markdown",
   "metadata": {},
   "source": [
    "# Pandas load excel file "
   ]
  },
  {
   "cell_type": "code",
   "execution_count": 2,
   "metadata": {},
   "outputs": [],
   "source": [
    "Complete_file = pd.read_excel('Data_from_gh.xlsx', sheet_name=0,engine='openpyxl')"
   ]
  },
  {
   "cell_type": "code",
   "execution_count": 3,
   "metadata": {},
   "outputs": [],
   "source": [
    "design_criterias= list(Complete_file.head(n=0))"
   ]
  },
  {
   "cell_type": "markdown",
   "metadata": {},
   "source": [
    "# Pandas to NP array "
   ]
  },
  {
   "cell_type": "code",
   "execution_count": 4,
   "metadata": {},
   "outputs": [],
   "source": [
    "array_excel = Complete_file.to_numpy()"
   ]
  },
  {
   "cell_type": "code",
   "execution_count": 25,
   "metadata": {},
   "outputs": [
    {
     "data": {
      "text/plain": [
       "array([[2.42783000e+06, 2.94407310e+01, 3.53805490e+01, 5.15172164e+03,\n",
       "        1.03500000e+05, 2.34572950e+01, 2.00903710e+01, 6.52732667e+05,\n",
       "        4.26306600e+00],\n",
       "       [3.71179300e+06, 3.53574850e+01, 3.15588340e+01, 5.29406199e+03,\n",
       "        1.81807006e+05, 2.04161160e+01, 3.43416840e+01, 1.03080000e+06,\n",
       "        4.89809100e+00],\n",
       "       [3.29418900e+06, 3.80635730e+01, 2.18757750e+01, 3.31861801e+03,\n",
       "        1.56118958e+05, 2.11005060e+01, 4.70433650e+01, 8.96884716e+05,\n",
       "        4.73922300e+00],\n",
       "       [2.37824600e+06, 3.18922350e+01, 2.80335070e+01, 4.58541899e+03,\n",
       "        1.26561229e+05, 1.87912680e+01, 2.76007990e+01, 6.71390727e+05,\n",
       "        5.32162100e+00],\n",
       "       [2.16806500e+06, 3.07398220e+01, 4.49718110e+01, 5.35086478e+03,\n",
       "        1.25167500e+05, 1.73213090e+01, 2.33920130e+01, 6.01877731e+05,\n",
       "        5.77323600e+00],\n",
       "       [2.21713000e+06, 3.76298170e+01, 5.05781690e+01, 3.69797176e+03,\n",
       "        9.86627653e+04, 2.24718010e+01, 2.66802380e+01, 5.61108692e+05,\n",
       "        4.45002200e+00],\n",
       "       [2.95652500e+06, 3.57792070e+01, 4.69353670e+01, 3.56505602e+03,\n",
       "        1.52652000e+05, 1.93677450e+01, 4.28189620e+01, 7.56406900e+05,\n",
       "        5.16322400e+00],\n",
       "       [2.56219700e+06, 3.41430680e+01, 5.18025060e+01, 5.28789778e+03,\n",
       "        1.32069000e+05, 1.94004420e+01, 2.49757100e+01, 6.67882066e+05,\n",
       "        5.15452200e+00],\n",
       "       [2.38818100e+06, 3.88163490e+01, 4.88501060e+01, 6.97092625e+03,\n",
       "        9.49020000e+04, 2.51647070e+01, 1.36139730e+01, 5.95270697e+05,\n",
       "        3.97381900e+00],\n",
       "       [1.92034100e+06, 2.89203900e+01, 3.23342490e+01, 7.26372984e+03,\n",
       "        6.55651830e+04, 2.92890360e+01, 9.02638000e+00, 5.36987035e+05,\n",
       "        3.41424700e+00],\n",
       "       [2.00676700e+06, 3.03836150e+01, 2.74104170e+01, 6.55912216e+03,\n",
       "        7.66810925e+04, 2.61702970e+01, 1.16907550e+01, 5.54855427e+05,\n",
       "        3.82112600e+00],\n",
       "       [2.52898300e+06, 2.43166930e+01, 2.98530150e+01, 4.73435185e+03,\n",
       "        1.13400000e+05, 2.23014370e+01, 2.39525920e+01, 6.49484772e+05,\n",
       "        4.48401600e+00],\n",
       "       [2.62007100e+06, 3.56496550e+01, 1.54249650e+01, 2.68636393e+03,\n",
       "        1.27173603e+05, 2.06023180e+01, 4.73404220e+01, 6.83523658e+05,\n",
       "        4.85382300e+00],\n",
       "       [2.19717400e+06, 3.54666320e+01, 4.58610940e+01, 5.52929181e+03,\n",
       "        1.03688890e+05, 2.11900620e+01, 1.87526530e+01, 5.72853706e+05,\n",
       "        4.71919300e+00],\n",
       "       [2.63830700e+06, 3.67688720e+01, 2.28801420e+01, 5.23744858e+03,\n",
       "        1.21884000e+05, 2.16460490e+01, 2.32716370e+01, 7.09585798e+05,\n",
       "        4.61978100e+00],\n",
       "       [2.74425900e+06, 3.91701570e+01, 5.46039890e+01, 5.38172395e+03,\n",
       "        1.67913000e+05, 1.63433390e+01, 3.12005970e+01, 7.21842420e+05,\n",
       "        6.11870100e+00],\n",
       "       [2.23170200e+06, 3.22947210e+01, 4.75018430e+01, 4.34394776e+03,\n",
       "        1.19300000e+05, 1.87066390e+01, 2.74634980e+01, 6.07209157e+05,\n",
       "        5.34569600e+00],\n",
       "       [2.64387500e+06, 3.82745930e+01, 2.81137270e+01, 5.11758241e+03,\n",
       "        1.16149333e+05, 2.27627220e+01, 2.26961330e+01, 6.56069174e+05,\n",
       "        4.39314800e+00],\n",
       "       [2.50117600e+06, 3.63024790e+01, 4.43374600e+01, 4.03921327e+03,\n",
       "        1.54560000e+05, 1.61825570e+01, 3.82648770e+01, 6.46492368e+05,\n",
       "        6.17949300e+00],\n",
       "       [2.05042800e+06, 2.46836570e+01, 3.37731270e+01, 8.19079781e+03,\n",
       "        6.42900000e+04, 3.18934200e+01, 7.84905200e+00, 5.69935389e+05,\n",
       "        3.13544300e+00]])"
      ]
     },
     "execution_count": 25,
     "metadata": {},
     "output_type": "execute_result"
    }
   ],
   "source": [
    "array_excel"
   ]
  },
  {
   "cell_type": "markdown",
   "metadata": {},
   "source": [
    "# Ipywidgets for weights "
   ]
  },
  {
   "cell_type": "code",
   "execution_count": 5,
   "metadata": {},
   "outputs": [],
   "source": [
    "layout = widgets.Layout(width='auto', height='auto') #set width and height\n",
    "style = {'description_width': 'initial'} # Display full text"
   ]
  },
  {
   "cell_type": "code",
   "execution_count": 6,
   "metadata": {},
   "outputs": [],
   "source": [
    "def criteria_slider(name):\n",
    "    criteria_slider=widgets.IntSlider(   \n",
    "    value=5,\n",
    "    min=0,\n",
    "    max=10,\n",
    "    step=1,\n",
    "    description=str(name),\n",
    "    style=style,\n",
    "    layout=Layout(width='500px'),\n",
    "    disabled=False,\n",
    "    continuous_update=False,\n",
    "    orientation='horizontal',\n",
    "    readout=True,\n",
    "    readout_format='d')\n",
    "    return criteria_slider"
   ]
  },
  {
   "cell_type": "code",
   "execution_count": 7,
   "metadata": {},
   "outputs": [],
   "source": [
    "slider_lists=[]\n",
    "for a in design_criterias:\n",
    "    slider_lists.append(criteria_slider(a))"
   ]
  },
  {
   "cell_type": "code",
   "execution_count": 8,
   "metadata": {},
   "outputs": [
    {
     "data": {
      "application/vnd.jupyter.widget-view+json": {
       "model_id": "e913472d05d1453ea13bcc598f89055a",
       "version_major": 2,
       "version_minor": 0
      },
      "text/plain": [
       "GridBox(children=(IntSlider(value=5, continuous_update=False, description='SUNHOURS', layout=Layout(width='500…"
      ]
     },
     "metadata": {},
     "output_type": "display_data"
    }
   ],
   "source": [
    "ui = widgets.GridBox(slider_lists,layout=widgets.Layout(grid_template_rows=\"auto\"))\n",
    "display(ui)"
   ]
  },
  {
   "cell_type": "code",
   "execution_count": 26,
   "metadata": {},
   "outputs": [],
   "source": [
    "weight_list=[]\n",
    "for slider in  ui.children:\n",
    "    weight_list.append((slider.value)/10)\n"
   ]
  },
  {
   "cell_type": "code",
   "execution_count": 27,
   "metadata": {},
   "outputs": [],
   "source": [
    "str1 =\"Design_Option_\""
   ]
  },
  {
   "cell_type": "code",
   "execution_count": 28,
   "metadata": {},
   "outputs": [
    {
     "name": "stdout",
     "output_type": "stream",
     "text": [
      "1\n",
      "2\n",
      "3\n",
      "4\n",
      "5\n",
      "6\n",
      "7\n",
      "8\n",
      "9\n",
      "10\n",
      "11\n",
      "12\n",
      "13\n",
      "14\n",
      "15\n",
      "16\n",
      "17\n",
      "18\n",
      "19\n",
      "20\n"
     ]
    }
   ],
   "source": [
    "option_list=[]\n",
    "for num in range(1,21):\n",
    "    string=str(num)\n",
    "    print(string)\n",
    "    option_list.append(str1+string)"
   ]
  },
  {
   "cell_type": "markdown",
   "metadata": {},
   "source": [
    "# Ipywidgets for cost/benefit for criteria"
   ]
  },
  {
   "cell_type": "code",
   "execution_count": 29,
   "metadata": {},
   "outputs": [],
   "source": [
    "def Radio_widget(text):\n",
    "    Radio_widget = widgets.RadioButtons(\n",
    "    options=['Cost', 'Benefit'],\n",
    "    value='Cost',\n",
    "    description=str(text),\n",
    "    disabled=False,\n",
    "    style=style,\n",
    "    layout=Layout(width='500px')\n",
    ")\n",
    "    return Radio_widget"
   ]
  },
  {
   "cell_type": "code",
   "execution_count": 30,
   "metadata": {},
   "outputs": [],
   "source": [
    "Radio_lists=[]\n",
    "for a in (design_criterias):\n",
    "    Radio_lists.append(Radio_widget(a))"
   ]
  },
  {
   "cell_type": "code",
   "execution_count": 31,
   "metadata": {},
   "outputs": [
    {
     "data": {
      "application/vnd.jupyter.widget-view+json": {
       "model_id": "ed28e1b18f25434aa0f1c24cd67c6279",
       "version_major": 2,
       "version_minor": 0
      },
      "text/plain": [
       "GridBox(children=(RadioButtons(description='SUNHOURS', layout=Layout(width='500px'), options=('Cost', 'Benefit…"
      ]
     },
     "metadata": {},
     "output_type": "display_data"
    }
   ],
   "source": [
    "ui_radios = widgets.GridBox(Radio_lists,layout=widgets.Layout(grid_template_rows=\"auto\"))\n",
    "display(ui_radios)"
   ]
  },
  {
   "cell_type": "code",
   "execution_count": 32,
   "metadata": {},
   "outputs": [
    {
     "name": "stdout",
     "output_type": "stream",
     "text": [
      "[-1, -1, -1, -1, -1, -1, -1, -1, -1]\n"
     ]
    }
   ],
   "source": [
    "criteria =[]\n",
    "\n",
    "for radio in ui_radios.children:\n",
    "    if radio.value == \"Cost\":\n",
    "        criteria.append(MIN)\n",
    "    else:\n",
    "        criteria.append(MAX)\n",
    "\n",
    "print(criteria)"
   ]
  },
  {
   "cell_type": "markdown",
   "metadata": {},
   "source": [
    "# Explore various MCDM Methods like Weighted Sum, Weighted Product , TOPSIS"
   ]
  },
  {
   "cell_type": "code",
   "execution_count": 16,
   "metadata": {},
   "outputs": [
    {
     "data": {
      "text/html": [
       "<table>\n",
       "<thead>\n",
       "<tr><th style=\"text-align: center;\">   ALT./CRIT.   </th><th style=\"text-align: center;\"> SUNHOURS (min) W.0.5 </th><th style=\"text-align: center;\"> VISBILITY (min) W.0.5 </th><th style=\"text-align: center;\"> ACCESS TO SKY GARDENS (min) W.0.5 </th><th style=\"text-align: center;\"> AREA OF GARDENS (min) W.0.5 </th><th style=\"text-align: center;\"> FLOOR AREA (min) W.0.5 </th><th style=\"text-align: center;\"> SUN HOURS/FLOOR AREA (min) W.0.5 </th><th style=\"text-align: center;\"> FLOOR AREA/AREA OF GARDENS (min) W.0.5 </th><th style=\"text-align: center;\"> TOTAL RADIATION (min) W.0.5 </th><th style=\"text-align: center;\"> SUN_HOURS TO FLOOR AREA (min) W.0.5 </th></tr>\n",
       "</thead>\n",
       "<tbody>\n",
       "<tr><td style=\"text-align: center;\">Design_Option_1 </td><td style=\"text-align: center;\">     2.42783e+06      </td><td style=\"text-align: center;\">        29.4407        </td><td style=\"text-align: center;\">              35.3805              </td><td style=\"text-align: center;\">           5151.72           </td><td style=\"text-align: center;\">         103500         </td><td style=\"text-align: center;\">             23.4573              </td><td style=\"text-align: center;\">                20.0904                 </td><td style=\"text-align: center;\">           652733            </td><td style=\"text-align: center;\">               4.26307               </td></tr>\n",
       "<tr><td style=\"text-align: center;\">Design_Option_2 </td><td style=\"text-align: center;\">     3.71179e+06      </td><td style=\"text-align: center;\">        35.3575        </td><td style=\"text-align: center;\">              31.5588              </td><td style=\"text-align: center;\">           5294.06           </td><td style=\"text-align: center;\">         181807         </td><td style=\"text-align: center;\">             20.4161              </td><td style=\"text-align: center;\">                34.3417                 </td><td style=\"text-align: center;\">         1.0308e+06          </td><td style=\"text-align: center;\">               4.89809               </td></tr>\n",
       "<tr><td style=\"text-align: center;\">Design_Option_3 </td><td style=\"text-align: center;\">     3.29419e+06      </td><td style=\"text-align: center;\">        38.0636        </td><td style=\"text-align: center;\">              21.8758              </td><td style=\"text-align: center;\">           3318.62           </td><td style=\"text-align: center;\">         156119         </td><td style=\"text-align: center;\">             21.1005              </td><td style=\"text-align: center;\">                47.0434                 </td><td style=\"text-align: center;\">           896885            </td><td style=\"text-align: center;\">               4.73922               </td></tr>\n",
       "<tr><td style=\"text-align: center;\">Design_Option_4 </td><td style=\"text-align: center;\">     2.37825e+06      </td><td style=\"text-align: center;\">        31.8922        </td><td style=\"text-align: center;\">              28.0335              </td><td style=\"text-align: center;\">           4585.42           </td><td style=\"text-align: center;\">         126561         </td><td style=\"text-align: center;\">             18.7913              </td><td style=\"text-align: center;\">                27.6008                 </td><td style=\"text-align: center;\">           671391            </td><td style=\"text-align: center;\">               5.32162               </td></tr>\n",
       "<tr><td style=\"text-align: center;\">Design_Option_5 </td><td style=\"text-align: center;\">     2.16806e+06      </td><td style=\"text-align: center;\">        30.7398        </td><td style=\"text-align: center;\">              44.9718              </td><td style=\"text-align: center;\">           5350.86           </td><td style=\"text-align: center;\">         125168         </td><td style=\"text-align: center;\">             17.3213              </td><td style=\"text-align: center;\">                 23.392                 </td><td style=\"text-align: center;\">           601878            </td><td style=\"text-align: center;\">               5.77324               </td></tr>\n",
       "<tr><td style=\"text-align: center;\">Design_Option_6 </td><td style=\"text-align: center;\">     2.21713e+06      </td><td style=\"text-align: center;\">        37.6298        </td><td style=\"text-align: center;\">              50.5782              </td><td style=\"text-align: center;\">           3697.97           </td><td style=\"text-align: center;\">        98662.8         </td><td style=\"text-align: center;\">             22.4718              </td><td style=\"text-align: center;\">                26.6802                 </td><td style=\"text-align: center;\">           561109            </td><td style=\"text-align: center;\">               4.45002               </td></tr>\n",
       "<tr><td style=\"text-align: center;\">Design_Option_7 </td><td style=\"text-align: center;\">     2.95652e+06      </td><td style=\"text-align: center;\">        35.7792        </td><td style=\"text-align: center;\">              46.9354              </td><td style=\"text-align: center;\">           3565.06           </td><td style=\"text-align: center;\">         152652         </td><td style=\"text-align: center;\">             19.3677              </td><td style=\"text-align: center;\">                 42.819                 </td><td style=\"text-align: center;\">           756407            </td><td style=\"text-align: center;\">               5.16322               </td></tr>\n",
       "<tr><td style=\"text-align: center;\">Design_Option_8 </td><td style=\"text-align: center;\">      2.5622e+06      </td><td style=\"text-align: center;\">        34.1431        </td><td style=\"text-align: center;\">              51.8025              </td><td style=\"text-align: center;\">           5287.9            </td><td style=\"text-align: center;\">         132069         </td><td style=\"text-align: center;\">             19.4004              </td><td style=\"text-align: center;\">                24.9757                 </td><td style=\"text-align: center;\">           667882            </td><td style=\"text-align: center;\">               5.15452               </td></tr>\n",
       "<tr><td style=\"text-align: center;\">Design_Option_9 </td><td style=\"text-align: center;\">     2.38818e+06      </td><td style=\"text-align: center;\">        38.8163        </td><td style=\"text-align: center;\">              48.8501              </td><td style=\"text-align: center;\">           6970.93           </td><td style=\"text-align: center;\">         94902          </td><td style=\"text-align: center;\">             25.1647              </td><td style=\"text-align: center;\">                 13.614                 </td><td style=\"text-align: center;\">           595271            </td><td style=\"text-align: center;\">               3.97382               </td></tr>\n",
       "<tr><td style=\"text-align: center;\">Design_Option_10</td><td style=\"text-align: center;\">     1.92034e+06      </td><td style=\"text-align: center;\">        28.9204        </td><td style=\"text-align: center;\">              32.3342              </td><td style=\"text-align: center;\">           7263.73           </td><td style=\"text-align: center;\">        65565.2         </td><td style=\"text-align: center;\">              29.289              </td><td style=\"text-align: center;\">                9.02638                 </td><td style=\"text-align: center;\">           536987            </td><td style=\"text-align: center;\">               3.41425               </td></tr>\n",
       "<tr><td style=\"text-align: center;\">Design_Option_11</td><td style=\"text-align: center;\">     2.00677e+06      </td><td style=\"text-align: center;\">        30.3836        </td><td style=\"text-align: center;\">              27.4104              </td><td style=\"text-align: center;\">           6559.12           </td><td style=\"text-align: center;\">        76681.1         </td><td style=\"text-align: center;\">             26.1703              </td><td style=\"text-align: center;\">                11.6908                 </td><td style=\"text-align: center;\">           554855            </td><td style=\"text-align: center;\">               3.82113               </td></tr>\n",
       "<tr><td style=\"text-align: center;\">Design_Option_12</td><td style=\"text-align: center;\">     2.52898e+06      </td><td style=\"text-align: center;\">        24.3167        </td><td style=\"text-align: center;\">              29.853               </td><td style=\"text-align: center;\">           4734.35           </td><td style=\"text-align: center;\">         113400         </td><td style=\"text-align: center;\">             22.3014              </td><td style=\"text-align: center;\">                23.9526                 </td><td style=\"text-align: center;\">           649485            </td><td style=\"text-align: center;\">               4.48402               </td></tr>\n",
       "<tr><td style=\"text-align: center;\">Design_Option_13</td><td style=\"text-align: center;\">     2.62007e+06      </td><td style=\"text-align: center;\">        35.6497        </td><td style=\"text-align: center;\">              15.425               </td><td style=\"text-align: center;\">           2686.36           </td><td style=\"text-align: center;\">         127174         </td><td style=\"text-align: center;\">             20.6023              </td><td style=\"text-align: center;\">                47.3404                 </td><td style=\"text-align: center;\">           683524            </td><td style=\"text-align: center;\">               4.85382               </td></tr>\n",
       "<tr><td style=\"text-align: center;\">Design_Option_14</td><td style=\"text-align: center;\">     2.19717e+06      </td><td style=\"text-align: center;\">        35.4666        </td><td style=\"text-align: center;\">              45.8611              </td><td style=\"text-align: center;\">           5529.29           </td><td style=\"text-align: center;\">         103689         </td><td style=\"text-align: center;\">             21.1901              </td><td style=\"text-align: center;\">                18.7527                 </td><td style=\"text-align: center;\">           572854            </td><td style=\"text-align: center;\">               4.71919               </td></tr>\n",
       "<tr><td style=\"text-align: center;\">Design_Option_15</td><td style=\"text-align: center;\">     2.63831e+06      </td><td style=\"text-align: center;\">        36.7689        </td><td style=\"text-align: center;\">              22.8801              </td><td style=\"text-align: center;\">           5237.45           </td><td style=\"text-align: center;\">         121884         </td><td style=\"text-align: center;\">              21.646              </td><td style=\"text-align: center;\">                23.2716                 </td><td style=\"text-align: center;\">           709586            </td><td style=\"text-align: center;\">               4.61978               </td></tr>\n",
       "<tr><td style=\"text-align: center;\">Design_Option_16</td><td style=\"text-align: center;\">     2.74426e+06      </td><td style=\"text-align: center;\">        39.1702        </td><td style=\"text-align: center;\">              54.604               </td><td style=\"text-align: center;\">           5381.72           </td><td style=\"text-align: center;\">         167913         </td><td style=\"text-align: center;\">             16.3433              </td><td style=\"text-align: center;\">                31.2006                 </td><td style=\"text-align: center;\">           721842            </td><td style=\"text-align: center;\">               6.1187                </td></tr>\n",
       "<tr><td style=\"text-align: center;\">Design_Option_17</td><td style=\"text-align: center;\">      2.2317e+06      </td><td style=\"text-align: center;\">        32.2947        </td><td style=\"text-align: center;\">              47.5018              </td><td style=\"text-align: center;\">           4343.95           </td><td style=\"text-align: center;\">         119300         </td><td style=\"text-align: center;\">             18.7066              </td><td style=\"text-align: center;\">                27.4635                 </td><td style=\"text-align: center;\">           607209            </td><td style=\"text-align: center;\">               5.3457                </td></tr>\n",
       "<tr><td style=\"text-align: center;\">Design_Option_18</td><td style=\"text-align: center;\">     2.64388e+06      </td><td style=\"text-align: center;\">        38.2746        </td><td style=\"text-align: center;\">              28.1137              </td><td style=\"text-align: center;\">           5117.58           </td><td style=\"text-align: center;\">         116149         </td><td style=\"text-align: center;\">             22.7627              </td><td style=\"text-align: center;\">                22.6961                 </td><td style=\"text-align: center;\">           656069            </td><td style=\"text-align: center;\">               4.39315               </td></tr>\n",
       "<tr><td style=\"text-align: center;\">Design_Option_19</td><td style=\"text-align: center;\">     2.50118e+06      </td><td style=\"text-align: center;\">        36.3025        </td><td style=\"text-align: center;\">              44.3375              </td><td style=\"text-align: center;\">           4039.21           </td><td style=\"text-align: center;\">         154560         </td><td style=\"text-align: center;\">             16.1826              </td><td style=\"text-align: center;\">                38.2649                 </td><td style=\"text-align: center;\">           646492            </td><td style=\"text-align: center;\">               6.17949               </td></tr>\n",
       "<tr><td style=\"text-align: center;\">Design_Option_20</td><td style=\"text-align: center;\">     2.05043e+06      </td><td style=\"text-align: center;\">        24.6837        </td><td style=\"text-align: center;\">              33.7731              </td><td style=\"text-align: center;\">           8190.8            </td><td style=\"text-align: center;\">         64290          </td><td style=\"text-align: center;\">             31.8934              </td><td style=\"text-align: center;\">                7.84905                 </td><td style=\"text-align: center;\">           569935            </td><td style=\"text-align: center;\">               3.13544               </td></tr>\n",
       "</tbody>\n",
       "</table>"
      ],
      "text/plain": [
       "   ALT./CRIT.      SUNHOURS (min) W.0.5    VISBILITY (min) W.0.5    ACCESS TO SKY GARDENS (min) W.0.5    AREA OF GARDENS (min) W.0.5    FLOOR AREA (min) W.0.5    SUN HOURS/FLOOR AREA (min) W.0.5    FLOOR AREA/AREA OF GARDENS (min) W.0.5    TOTAL RADIATION (min) W.0.5    SUN_HOURS TO FLOOR AREA (min) W.0.5\n",
       "----------------  ----------------------  -----------------------  -----------------------------------  -----------------------------  ------------------------  ----------------------------------  ----------------------------------------  -----------------------------  -------------------------------------\n",
       "Design_Option_1        2.42783e+06                29.4407                        35.3805                           5151.72                      103500                        23.4573                                20.0904                              652733                             4.26307\n",
       "Design_Option_2        3.71179e+06                35.3575                        31.5588                           5294.06                      181807                        20.4161                                34.3417                            1.0308e+06                           4.89809\n",
       "Design_Option_3        3.29419e+06                38.0636                        21.8758                           3318.62                      156119                        21.1005                                47.0434                              896885                             4.73922\n",
       "Design_Option_4        2.37825e+06                31.8922                        28.0335                           4585.42                      126561                        18.7913                                27.6008                              671391                             5.32162\n",
       "Design_Option_5        2.16806e+06                30.7398                        44.9718                           5350.86                      125168                        17.3213                                 23.392                              601878                             5.77324\n",
       "Design_Option_6        2.21713e+06                37.6298                        50.5782                           3697.97                     98662.8                        22.4718                                26.6802                              561109                             4.45002\n",
       "Design_Option_7        2.95652e+06                35.7792                        46.9354                           3565.06                      152652                        19.3677                                 42.819                              756407                             5.16322\n",
       "Design_Option_8         2.5622e+06                34.1431                        51.8025                           5287.9                       132069                        19.4004                                24.9757                              667882                             5.15452\n",
       "Design_Option_9        2.38818e+06                38.8163                        48.8501                           6970.93                      94902                         25.1647                                 13.614                              595271                             3.97382\n",
       "Design_Option_10       1.92034e+06                28.9204                        32.3342                           7263.73                     65565.2                         29.289                                9.02638                              536987                             3.41425\n",
       "Design_Option_11       2.00677e+06                30.3836                        27.4104                           6559.12                     76681.1                        26.1703                                11.6908                              554855                             3.82113\n",
       "Design_Option_12       2.52898e+06                24.3167                        29.853                            4734.35                      113400                        22.3014                                23.9526                              649485                             4.48402\n",
       "Design_Option_13       2.62007e+06                35.6497                        15.425                            2686.36                      127174                        20.6023                                47.3404                              683524                             4.85382\n",
       "Design_Option_14       2.19717e+06                35.4666                        45.8611                           5529.29                      103689                        21.1901                                18.7527                              572854                             4.71919\n",
       "Design_Option_15       2.63831e+06                36.7689                        22.8801                           5237.45                      121884                         21.646                                23.2716                              709586                             4.61978\n",
       "Design_Option_16       2.74426e+06                39.1702                        54.604                            5381.72                      167913                        16.3433                                31.2006                              721842                             6.1187\n",
       "Design_Option_17        2.2317e+06                32.2947                        47.5018                           4343.95                      119300                        18.7066                                27.4635                              607209                             5.3457\n",
       "Design_Option_18       2.64388e+06                38.2746                        28.1137                           5117.58                      116149                        22.7627                                22.6961                              656069                             4.39315\n",
       "Design_Option_19       2.50118e+06                36.3025                        44.3375                           4039.21                      154560                        16.1826                                38.2649                              646492                             6.17949\n",
       "Design_Option_20       2.05043e+06                24.6837                        33.7731                           8190.8                       64290                         31.8934                                7.84905                              569935                             3.13544"
      ]
     },
     "execution_count": 16,
     "metadata": {},
     "output_type": "execute_result"
    }
   ],
   "source": [
    "data = Data(array_excel, criteria,\n",
    "            anames=option_list,\n",
    "            weights=weight_list,\n",
    "            cnames=design_criterias)\n",
    "data"
   ]
  },
  {
   "cell_type": "code",
   "execution_count": 17,
   "metadata": {},
   "outputs": [
    {
     "data": {
      "text/html": [
       "<div id='dec-22732b0c-b315-11eb-8711-244bfe5c9e98'><p><b>WeightedSum (mnorm=sum, wnorm=sum) - Solution:</b></p><table>\n",
       "<thead>\n",
       "<tr><th style=\"text-align: center;\">   ALT./CRIT.   </th><th style=\"text-align: center;\"> SUNHOURS (min) W.0.5 </th><th style=\"text-align: center;\"> VISBILITY (min) W.0.5 </th><th style=\"text-align: center;\"> ACCESS TO SKY GARDENS (min) W.0.5 </th><th style=\"text-align: center;\"> AREA OF GARDENS (min) W.0.5 </th><th style=\"text-align: center;\"> FLOOR AREA (min) W.0.5 </th><th style=\"text-align: center;\"> SUN HOURS/FLOOR AREA (min) W.0.5 </th><th style=\"text-align: center;\"> FLOOR AREA/AREA OF GARDENS (min) W.0.5 </th><th style=\"text-align: center;\"> TOTAL RADIATION (min) W.0.5 </th><th style=\"text-align: center;\"> SUN_HOURS TO FLOOR AREA (min) W.0.5 </th><th style=\"text-align: center;\"> Rank </th></tr>\n",
       "</thead>\n",
       "<tbody>\n",
       "<tr><td style=\"text-align: center;\">Design_Option_1 </td><td style=\"text-align: center;\">     2.42783e+06      </td><td style=\"text-align: center;\">        29.4407        </td><td style=\"text-align: center;\">              35.3805              </td><td style=\"text-align: center;\">           5151.72           </td><td style=\"text-align: center;\">         103500         </td><td style=\"text-align: center;\">             23.4573              </td><td style=\"text-align: center;\">                20.0904                 </td><td style=\"text-align: center;\">           652733            </td><td style=\"text-align: center;\">               4.26307               </td><td style=\"text-align: center;\">  7   </td></tr>\n",
       "<tr><td style=\"text-align: center;\">Design_Option_2 </td><td style=\"text-align: center;\">     3.71179e+06      </td><td style=\"text-align: center;\">        35.3575        </td><td style=\"text-align: center;\">              31.5588              </td><td style=\"text-align: center;\">           5294.06           </td><td style=\"text-align: center;\">         181807         </td><td style=\"text-align: center;\">             20.4161              </td><td style=\"text-align: center;\">                34.3417                 </td><td style=\"text-align: center;\">         1.0308e+06          </td><td style=\"text-align: center;\">               4.89809               </td><td style=\"text-align: center;\">  20  </td></tr>\n",
       "<tr><td style=\"text-align: center;\">Design_Option_3 </td><td style=\"text-align: center;\">     3.29419e+06      </td><td style=\"text-align: center;\">        38.0636        </td><td style=\"text-align: center;\">              21.8758              </td><td style=\"text-align: center;\">           3318.62           </td><td style=\"text-align: center;\">         156119         </td><td style=\"text-align: center;\">             21.1005              </td><td style=\"text-align: center;\">                47.0434                 </td><td style=\"text-align: center;\">           896885            </td><td style=\"text-align: center;\">               4.73922               </td><td style=\"text-align: center;\">  15  </td></tr>\n",
       "<tr><td style=\"text-align: center;\">Design_Option_4 </td><td style=\"text-align: center;\">     2.37825e+06      </td><td style=\"text-align: center;\">        31.8922        </td><td style=\"text-align: center;\">              28.0335              </td><td style=\"text-align: center;\">           4585.42           </td><td style=\"text-align: center;\">         126561         </td><td style=\"text-align: center;\">             18.7913              </td><td style=\"text-align: center;\">                27.6008                 </td><td style=\"text-align: center;\">           671391            </td><td style=\"text-align: center;\">               5.32162               </td><td style=\"text-align: center;\">  11  </td></tr>\n",
       "<tr><td style=\"text-align: center;\">Design_Option_5 </td><td style=\"text-align: center;\">     2.16806e+06      </td><td style=\"text-align: center;\">        30.7398        </td><td style=\"text-align: center;\">              44.9718              </td><td style=\"text-align: center;\">           5350.86           </td><td style=\"text-align: center;\">         125168         </td><td style=\"text-align: center;\">             17.3213              </td><td style=\"text-align: center;\">                 23.392                 </td><td style=\"text-align: center;\">           601878            </td><td style=\"text-align: center;\">               5.77324               </td><td style=\"text-align: center;\">  13  </td></tr>\n",
       "<tr><td style=\"text-align: center;\">Design_Option_6 </td><td style=\"text-align: center;\">     2.21713e+06      </td><td style=\"text-align: center;\">        37.6298        </td><td style=\"text-align: center;\">              50.5782              </td><td style=\"text-align: center;\">           3697.97           </td><td style=\"text-align: center;\">        98662.8         </td><td style=\"text-align: center;\">             22.4718              </td><td style=\"text-align: center;\">                26.6802                 </td><td style=\"text-align: center;\">           561109            </td><td style=\"text-align: center;\">               4.45002               </td><td style=\"text-align: center;\">  9   </td></tr>\n",
       "<tr><td style=\"text-align: center;\">Design_Option_7 </td><td style=\"text-align: center;\">     2.95652e+06      </td><td style=\"text-align: center;\">        35.7792        </td><td style=\"text-align: center;\">              46.9354              </td><td style=\"text-align: center;\">           3565.06           </td><td style=\"text-align: center;\">         152652         </td><td style=\"text-align: center;\">             19.3677              </td><td style=\"text-align: center;\">                 42.819                 </td><td style=\"text-align: center;\">           756407            </td><td style=\"text-align: center;\">               5.16322               </td><td style=\"text-align: center;\">  18  </td></tr>\n",
       "<tr><td style=\"text-align: center;\">Design_Option_8 </td><td style=\"text-align: center;\">      2.5622e+06      </td><td style=\"text-align: center;\">        34.1431        </td><td style=\"text-align: center;\">              51.8025              </td><td style=\"text-align: center;\">           5287.9            </td><td style=\"text-align: center;\">         132069         </td><td style=\"text-align: center;\">             19.4004              </td><td style=\"text-align: center;\">                24.9757                 </td><td style=\"text-align: center;\">           667882            </td><td style=\"text-align: center;\">               5.15452               </td><td style=\"text-align: center;\">  16  </td></tr>\n",
       "<tr><td style=\"text-align: center;\">Design_Option_9 </td><td style=\"text-align: center;\">     2.38818e+06      </td><td style=\"text-align: center;\">        38.8163        </td><td style=\"text-align: center;\">              48.8501              </td><td style=\"text-align: center;\">           6970.93           </td><td style=\"text-align: center;\">         94902          </td><td style=\"text-align: center;\">             25.1647              </td><td style=\"text-align: center;\">                 13.614                 </td><td style=\"text-align: center;\">           595271            </td><td style=\"text-align: center;\">               3.97382               </td><td style=\"text-align: center;\">  6   </td></tr>\n",
       "<tr><td style=\"text-align: center;\">Design_Option_10</td><td style=\"text-align: center;\">     1.92034e+06      </td><td style=\"text-align: center;\">        28.9204        </td><td style=\"text-align: center;\">              32.3342              </td><td style=\"text-align: center;\">           7263.73           </td><td style=\"text-align: center;\">        65565.2         </td><td style=\"text-align: center;\">              29.289              </td><td style=\"text-align: center;\">                9.02638                 </td><td style=\"text-align: center;\">           536987            </td><td style=\"text-align: center;\">               3.41425               </td><td style=\"text-align: center;\">  2   </td></tr>\n",
       "<tr><td style=\"text-align: center;\">Design_Option_11</td><td style=\"text-align: center;\">     2.00677e+06      </td><td style=\"text-align: center;\">        30.3836        </td><td style=\"text-align: center;\">              27.4104              </td><td style=\"text-align: center;\">           6559.12           </td><td style=\"text-align: center;\">        76681.1         </td><td style=\"text-align: center;\">             26.1703              </td><td style=\"text-align: center;\">                11.6908                 </td><td style=\"text-align: center;\">           554855            </td><td style=\"text-align: center;\">               3.82113               </td><td style=\"text-align: center;\">  3   </td></tr>\n",
       "<tr><td style=\"text-align: center;\">Design_Option_12</td><td style=\"text-align: center;\">     2.52898e+06      </td><td style=\"text-align: center;\">        24.3167        </td><td style=\"text-align: center;\">              29.853               </td><td style=\"text-align: center;\">           4734.35           </td><td style=\"text-align: center;\">         113400         </td><td style=\"text-align: center;\">             22.3014              </td><td style=\"text-align: center;\">                23.9526                 </td><td style=\"text-align: center;\">           649485            </td><td style=\"text-align: center;\">               4.48402               </td><td style=\"text-align: center;\">  5   </td></tr>\n",
       "<tr><td style=\"text-align: center;\">Design_Option_13</td><td style=\"text-align: center;\">     2.62007e+06      </td><td style=\"text-align: center;\">        35.6497        </td><td style=\"text-align: center;\">              15.425               </td><td style=\"text-align: center;\">           2686.36           </td><td style=\"text-align: center;\">         127174         </td><td style=\"text-align: center;\">             20.6023              </td><td style=\"text-align: center;\">                47.3404                 </td><td style=\"text-align: center;\">           683524            </td><td style=\"text-align: center;\">               4.85382               </td><td style=\"text-align: center;\">  4   </td></tr>\n",
       "<tr><td style=\"text-align: center;\">Design_Option_14</td><td style=\"text-align: center;\">     2.19717e+06      </td><td style=\"text-align: center;\">        35.4666        </td><td style=\"text-align: center;\">              45.8611              </td><td style=\"text-align: center;\">           5529.29           </td><td style=\"text-align: center;\">         103689         </td><td style=\"text-align: center;\">             21.1901              </td><td style=\"text-align: center;\">                18.7527                 </td><td style=\"text-align: center;\">           572854            </td><td style=\"text-align: center;\">               4.71919               </td><td style=\"text-align: center;\">  8   </td></tr>\n",
       "<tr><td style=\"text-align: center;\">Design_Option_15</td><td style=\"text-align: center;\">     2.63831e+06      </td><td style=\"text-align: center;\">        36.7689        </td><td style=\"text-align: center;\">              22.8801              </td><td style=\"text-align: center;\">           5237.45           </td><td style=\"text-align: center;\">         121884         </td><td style=\"text-align: center;\">              21.646              </td><td style=\"text-align: center;\">                23.2716                 </td><td style=\"text-align: center;\">           709586            </td><td style=\"text-align: center;\">               4.61978               </td><td style=\"text-align: center;\">  10  </td></tr>\n",
       "<tr><td style=\"text-align: center;\">Design_Option_16</td><td style=\"text-align: center;\">     2.74426e+06      </td><td style=\"text-align: center;\">        39.1702        </td><td style=\"text-align: center;\">              54.604               </td><td style=\"text-align: center;\">           5381.72           </td><td style=\"text-align: center;\">         167913         </td><td style=\"text-align: center;\">             16.3433              </td><td style=\"text-align: center;\">                31.2006                 </td><td style=\"text-align: center;\">           721842            </td><td style=\"text-align: center;\">               6.1187                </td><td style=\"text-align: center;\">  19  </td></tr>\n",
       "<tr><td style=\"text-align: center;\">Design_Option_17</td><td style=\"text-align: center;\">      2.2317e+06      </td><td style=\"text-align: center;\">        32.2947        </td><td style=\"text-align: center;\">              47.5018              </td><td style=\"text-align: center;\">           4343.95           </td><td style=\"text-align: center;\">         119300         </td><td style=\"text-align: center;\">             18.7066              </td><td style=\"text-align: center;\">                27.4635                 </td><td style=\"text-align: center;\">           607209            </td><td style=\"text-align: center;\">               5.3457                </td><td style=\"text-align: center;\">  14  </td></tr>\n",
       "<tr><td style=\"text-align: center;\">Design_Option_18</td><td style=\"text-align: center;\">     2.64388e+06      </td><td style=\"text-align: center;\">        38.2746        </td><td style=\"text-align: center;\">              28.1137              </td><td style=\"text-align: center;\">           5117.58           </td><td style=\"text-align: center;\">         116149         </td><td style=\"text-align: center;\">             22.7627              </td><td style=\"text-align: center;\">                22.6961                 </td><td style=\"text-align: center;\">           656069            </td><td style=\"text-align: center;\">               4.39315               </td><td style=\"text-align: center;\">  12  </td></tr>\n",
       "<tr><td style=\"text-align: center;\">Design_Option_19</td><td style=\"text-align: center;\">     2.50118e+06      </td><td style=\"text-align: center;\">        36.3025        </td><td style=\"text-align: center;\">              44.3375              </td><td style=\"text-align: center;\">           4039.21           </td><td style=\"text-align: center;\">         154560         </td><td style=\"text-align: center;\">             16.1826              </td><td style=\"text-align: center;\">                38.2649                 </td><td style=\"text-align: center;\">           646492            </td><td style=\"text-align: center;\">               6.17949               </td><td style=\"text-align: center;\">  17  </td></tr>\n",
       "<tr><td style=\"text-align: center;\">Design_Option_20</td><td style=\"text-align: center;\">     2.05043e+06      </td><td style=\"text-align: center;\">        24.6837        </td><td style=\"text-align: center;\">              33.7731              </td><td style=\"text-align: center;\">           8190.8            </td><td style=\"text-align: center;\">         64290          </td><td style=\"text-align: center;\">             31.8934              </td><td style=\"text-align: center;\">                7.84905                 </td><td style=\"text-align: center;\">           569935            </td><td style=\"text-align: center;\">               3.13544               </td><td style=\"text-align: center;\">  1   </td></tr>\n",
       "</tbody>\n",
       "</table></div>"
      ],
      "text/plain": [
       "WeightedSum (mnorm=sum, wnorm=sum) - Solution:\n",
       "   ALT./CRIT.      SUNHOURS (min) W.0.5    VISBILITY (min) W.0.5    ACCESS TO SKY GARDENS (min) W.0.5    AREA OF GARDENS (min) W.0.5    FLOOR AREA (min) W.0.5    SUN HOURS/FLOOR AREA (min) W.0.5    FLOOR AREA/AREA OF GARDENS (min) W.0.5    TOTAL RADIATION (min) W.0.5    SUN_HOURS TO FLOOR AREA (min) W.0.5    Rank\n",
       "----------------  ----------------------  -----------------------  -----------------------------------  -----------------------------  ------------------------  ----------------------------------  ----------------------------------------  -----------------------------  -------------------------------------  ------\n",
       "Design_Option_1        2.42783e+06                29.4407                        35.3805                           5151.72                      103500                        23.4573                                20.0904                              652733                             4.26307                   7\n",
       "Design_Option_2        3.71179e+06                35.3575                        31.5588                           5294.06                      181807                        20.4161                                34.3417                            1.0308e+06                           4.89809                   20\n",
       "Design_Option_3        3.29419e+06                38.0636                        21.8758                           3318.62                      156119                        21.1005                                47.0434                              896885                             4.73922                   15\n",
       "Design_Option_4        2.37825e+06                31.8922                        28.0335                           4585.42                      126561                        18.7913                                27.6008                              671391                             5.32162                   11\n",
       "Design_Option_5        2.16806e+06                30.7398                        44.9718                           5350.86                      125168                        17.3213                                 23.392                              601878                             5.77324                   13\n",
       "Design_Option_6        2.21713e+06                37.6298                        50.5782                           3697.97                     98662.8                        22.4718                                26.6802                              561109                             4.45002                   9\n",
       "Design_Option_7        2.95652e+06                35.7792                        46.9354                           3565.06                      152652                        19.3677                                 42.819                              756407                             5.16322                   18\n",
       "Design_Option_8         2.5622e+06                34.1431                        51.8025                           5287.9                       132069                        19.4004                                24.9757                              667882                             5.15452                   16\n",
       "Design_Option_9        2.38818e+06                38.8163                        48.8501                           6970.93                      94902                         25.1647                                 13.614                              595271                             3.97382                   6\n",
       "Design_Option_10       1.92034e+06                28.9204                        32.3342                           7263.73                     65565.2                         29.289                                9.02638                              536987                             3.41425                   2\n",
       "Design_Option_11       2.00677e+06                30.3836                        27.4104                           6559.12                     76681.1                        26.1703                                11.6908                              554855                             3.82113                   3\n",
       "Design_Option_12       2.52898e+06                24.3167                        29.853                            4734.35                      113400                        22.3014                                23.9526                              649485                             4.48402                   5\n",
       "Design_Option_13       2.62007e+06                35.6497                        15.425                            2686.36                      127174                        20.6023                                47.3404                              683524                             4.85382                   4\n",
       "Design_Option_14       2.19717e+06                35.4666                        45.8611                           5529.29                      103689                        21.1901                                18.7527                              572854                             4.71919                   8\n",
       "Design_Option_15       2.63831e+06                36.7689                        22.8801                           5237.45                      121884                         21.646                                23.2716                              709586                             4.61978                   10\n",
       "Design_Option_16       2.74426e+06                39.1702                        54.604                            5381.72                      167913                        16.3433                                31.2006                              721842                             6.1187                    19\n",
       "Design_Option_17        2.2317e+06                32.2947                        47.5018                           4343.95                      119300                        18.7066                                27.4635                              607209                             5.3457                    14\n",
       "Design_Option_18       2.64388e+06                38.2746                        28.1137                           5117.58                      116149                        22.7627                                22.6961                              656069                             4.39315                   12\n",
       "Design_Option_19       2.50118e+06                36.3025                        44.3375                           4039.21                      154560                        16.1826                                38.2649                              646492                             6.17949                   17\n",
       "Design_Option_20       2.05043e+06                24.6837                        33.7731                           8190.8                       64290                         31.8934                                7.84905                              569935                             3.13544                   1"
      ]
     },
     "execution_count": 17,
     "metadata": {},
     "output_type": "execute_result"
    }
   ],
   "source": [
    "weighted_sum_model = simple.WeightedSum()\n",
    "dec_weighted_sum = weighted_sum_model.decide(data)\n",
    "dec_weighted_sum"
   ]
  },
  {
   "cell_type": "code",
   "execution_count": 18,
   "metadata": {},
   "outputs": [
    {
     "data": {
      "text/html": [
       "<div id='dec-2276d20d-b315-11eb-955d-244bfe5c9e98'><p><b>WeightedProduct (mnorm=sum, wnorm=sum) - Solution:</b></p><table>\n",
       "<thead>\n",
       "<tr><th style=\"text-align: center;\">   ALT./CRIT.   </th><th style=\"text-align: center;\"> SUNHOURS (min) W.0.5 </th><th style=\"text-align: center;\"> VISBILITY (min) W.0.5 </th><th style=\"text-align: center;\"> ACCESS TO SKY GARDENS (min) W.0.5 </th><th style=\"text-align: center;\"> AREA OF GARDENS (min) W.0.5 </th><th style=\"text-align: center;\"> FLOOR AREA (min) W.0.5 </th><th style=\"text-align: center;\"> SUN HOURS/FLOOR AREA (min) W.0.5 </th><th style=\"text-align: center;\"> FLOOR AREA/AREA OF GARDENS (min) W.0.5 </th><th style=\"text-align: center;\"> TOTAL RADIATION (min) W.0.5 </th><th style=\"text-align: center;\"> SUN_HOURS TO FLOOR AREA (min) W.0.5 </th><th style=\"text-align: center;\"> Rank </th></tr>\n",
       "</thead>\n",
       "<tbody>\n",
       "<tr><td style=\"text-align: center;\">Design_Option_1 </td><td style=\"text-align: center;\">     2.42783e+06      </td><td style=\"text-align: center;\">        29.4407        </td><td style=\"text-align: center;\">              35.3805              </td><td style=\"text-align: center;\">           5151.72           </td><td style=\"text-align: center;\">         103500         </td><td style=\"text-align: center;\">             23.4573              </td><td style=\"text-align: center;\">                20.0904                 </td><td style=\"text-align: center;\">           652733            </td><td style=\"text-align: center;\">               4.26307               </td><td style=\"text-align: center;\">  6   </td></tr>\n",
       "<tr><td style=\"text-align: center;\">Design_Option_2 </td><td style=\"text-align: center;\">     3.71179e+06      </td><td style=\"text-align: center;\">        35.3575        </td><td style=\"text-align: center;\">              31.5588              </td><td style=\"text-align: center;\">           5294.06           </td><td style=\"text-align: center;\">         181807         </td><td style=\"text-align: center;\">             20.4161              </td><td style=\"text-align: center;\">                34.3417                 </td><td style=\"text-align: center;\">         1.0308e+06          </td><td style=\"text-align: center;\">               4.89809               </td><td style=\"text-align: center;\">  20  </td></tr>\n",
       "<tr><td style=\"text-align: center;\">Design_Option_3 </td><td style=\"text-align: center;\">     3.29419e+06      </td><td style=\"text-align: center;\">        38.0636        </td><td style=\"text-align: center;\">              21.8758              </td><td style=\"text-align: center;\">           3318.62           </td><td style=\"text-align: center;\">         156119         </td><td style=\"text-align: center;\">             21.1005              </td><td style=\"text-align: center;\">                47.0434                 </td><td style=\"text-align: center;\">           896885            </td><td style=\"text-align: center;\">               4.73922               </td><td style=\"text-align: center;\">  16  </td></tr>\n",
       "<tr><td style=\"text-align: center;\">Design_Option_4 </td><td style=\"text-align: center;\">     2.37825e+06      </td><td style=\"text-align: center;\">        31.8922        </td><td style=\"text-align: center;\">              28.0335              </td><td style=\"text-align: center;\">           4585.42           </td><td style=\"text-align: center;\">         126561         </td><td style=\"text-align: center;\">             18.7913              </td><td style=\"text-align: center;\">                27.6008                 </td><td style=\"text-align: center;\">           671391            </td><td style=\"text-align: center;\">               5.32162               </td><td style=\"text-align: center;\">  8   </td></tr>\n",
       "<tr><td style=\"text-align: center;\">Design_Option_5 </td><td style=\"text-align: center;\">     2.16806e+06      </td><td style=\"text-align: center;\">        30.7398        </td><td style=\"text-align: center;\">              44.9718              </td><td style=\"text-align: center;\">           5350.86           </td><td style=\"text-align: center;\">         125168         </td><td style=\"text-align: center;\">             17.3213              </td><td style=\"text-align: center;\">                 23.392                 </td><td style=\"text-align: center;\">           601878            </td><td style=\"text-align: center;\">               5.77324               </td><td style=\"text-align: center;\">  13  </td></tr>\n",
       "<tr><td style=\"text-align: center;\">Design_Option_6 </td><td style=\"text-align: center;\">     2.21713e+06      </td><td style=\"text-align: center;\">        37.6298        </td><td style=\"text-align: center;\">              50.5782              </td><td style=\"text-align: center;\">           3697.97           </td><td style=\"text-align: center;\">        98662.8         </td><td style=\"text-align: center;\">             22.4718              </td><td style=\"text-align: center;\">                26.6802                 </td><td style=\"text-align: center;\">           561109            </td><td style=\"text-align: center;\">               4.45002               </td><td style=\"text-align: center;\">  9   </td></tr>\n",
       "<tr><td style=\"text-align: center;\">Design_Option_7 </td><td style=\"text-align: center;\">     2.95652e+06      </td><td style=\"text-align: center;\">        35.7792        </td><td style=\"text-align: center;\">              46.9354              </td><td style=\"text-align: center;\">           3565.06           </td><td style=\"text-align: center;\">         152652         </td><td style=\"text-align: center;\">             19.3677              </td><td style=\"text-align: center;\">                 42.819                 </td><td style=\"text-align: center;\">           756407            </td><td style=\"text-align: center;\">               5.16322               </td><td style=\"text-align: center;\">  18  </td></tr>\n",
       "<tr><td style=\"text-align: center;\">Design_Option_8 </td><td style=\"text-align: center;\">      2.5622e+06      </td><td style=\"text-align: center;\">        34.1431        </td><td style=\"text-align: center;\">              51.8025              </td><td style=\"text-align: center;\">           5287.9            </td><td style=\"text-align: center;\">         132069         </td><td style=\"text-align: center;\">             19.4004              </td><td style=\"text-align: center;\">                24.9757                 </td><td style=\"text-align: center;\">           667882            </td><td style=\"text-align: center;\">               5.15452               </td><td style=\"text-align: center;\">  15  </td></tr>\n",
       "<tr><td style=\"text-align: center;\">Design_Option_9 </td><td style=\"text-align: center;\">     2.38818e+06      </td><td style=\"text-align: center;\">        38.8163        </td><td style=\"text-align: center;\">              48.8501              </td><td style=\"text-align: center;\">           6970.93           </td><td style=\"text-align: center;\">         94902          </td><td style=\"text-align: center;\">             25.1647              </td><td style=\"text-align: center;\">                 13.614                 </td><td style=\"text-align: center;\">           595271            </td><td style=\"text-align: center;\">               3.97382               </td><td style=\"text-align: center;\">  11  </td></tr>\n",
       "<tr><td style=\"text-align: center;\">Design_Option_10</td><td style=\"text-align: center;\">     1.92034e+06      </td><td style=\"text-align: center;\">        28.9204        </td><td style=\"text-align: center;\">              32.3342              </td><td style=\"text-align: center;\">           7263.73           </td><td style=\"text-align: center;\">        65565.2         </td><td style=\"text-align: center;\">              29.289              </td><td style=\"text-align: center;\">                9.02638                 </td><td style=\"text-align: center;\">           536987            </td><td style=\"text-align: center;\">               3.41425               </td><td style=\"text-align: center;\">  2   </td></tr>\n",
       "<tr><td style=\"text-align: center;\">Design_Option_11</td><td style=\"text-align: center;\">     2.00677e+06      </td><td style=\"text-align: center;\">        30.3836        </td><td style=\"text-align: center;\">              27.4104              </td><td style=\"text-align: center;\">           6559.12           </td><td style=\"text-align: center;\">        76681.1         </td><td style=\"text-align: center;\">             26.1703              </td><td style=\"text-align: center;\">                11.6908                 </td><td style=\"text-align: center;\">           554855            </td><td style=\"text-align: center;\">               3.82113               </td><td style=\"text-align: center;\">  3   </td></tr>\n",
       "<tr><td style=\"text-align: center;\">Design_Option_12</td><td style=\"text-align: center;\">     2.52898e+06      </td><td style=\"text-align: center;\">        24.3167        </td><td style=\"text-align: center;\">              29.853               </td><td style=\"text-align: center;\">           4734.35           </td><td style=\"text-align: center;\">         113400         </td><td style=\"text-align: center;\">             22.3014              </td><td style=\"text-align: center;\">                23.9526                 </td><td style=\"text-align: center;\">           649485            </td><td style=\"text-align: center;\">               4.48402               </td><td style=\"text-align: center;\">  4   </td></tr>\n",
       "<tr><td style=\"text-align: center;\">Design_Option_13</td><td style=\"text-align: center;\">     2.62007e+06      </td><td style=\"text-align: center;\">        35.6497        </td><td style=\"text-align: center;\">              15.425               </td><td style=\"text-align: center;\">           2686.36           </td><td style=\"text-align: center;\">         127174         </td><td style=\"text-align: center;\">             20.6023              </td><td style=\"text-align: center;\">                47.3404                 </td><td style=\"text-align: center;\">           683524            </td><td style=\"text-align: center;\">               4.85382               </td><td style=\"text-align: center;\">  5   </td></tr>\n",
       "<tr><td style=\"text-align: center;\">Design_Option_14</td><td style=\"text-align: center;\">     2.19717e+06      </td><td style=\"text-align: center;\">        35.4666        </td><td style=\"text-align: center;\">              45.8611              </td><td style=\"text-align: center;\">           5529.29           </td><td style=\"text-align: center;\">         103689         </td><td style=\"text-align: center;\">             21.1901              </td><td style=\"text-align: center;\">                18.7527                 </td><td style=\"text-align: center;\">           572854            </td><td style=\"text-align: center;\">               4.71919               </td><td style=\"text-align: center;\">  7   </td></tr>\n",
       "<tr><td style=\"text-align: center;\">Design_Option_15</td><td style=\"text-align: center;\">     2.63831e+06      </td><td style=\"text-align: center;\">        36.7689        </td><td style=\"text-align: center;\">              22.8801              </td><td style=\"text-align: center;\">           5237.45           </td><td style=\"text-align: center;\">         121884         </td><td style=\"text-align: center;\">              21.646              </td><td style=\"text-align: center;\">                23.2716                 </td><td style=\"text-align: center;\">           709586            </td><td style=\"text-align: center;\">               4.61978               </td><td style=\"text-align: center;\">  10  </td></tr>\n",
       "<tr><td style=\"text-align: center;\">Design_Option_16</td><td style=\"text-align: center;\">     2.74426e+06      </td><td style=\"text-align: center;\">        39.1702        </td><td style=\"text-align: center;\">              54.604               </td><td style=\"text-align: center;\">           5381.72           </td><td style=\"text-align: center;\">         167913         </td><td style=\"text-align: center;\">             16.3433              </td><td style=\"text-align: center;\">                31.2006                 </td><td style=\"text-align: center;\">           721842            </td><td style=\"text-align: center;\">               6.1187                </td><td style=\"text-align: center;\">  19  </td></tr>\n",
       "<tr><td style=\"text-align: center;\">Design_Option_17</td><td style=\"text-align: center;\">      2.2317e+06      </td><td style=\"text-align: center;\">        32.2947        </td><td style=\"text-align: center;\">              47.5018              </td><td style=\"text-align: center;\">           4343.95           </td><td style=\"text-align: center;\">         119300         </td><td style=\"text-align: center;\">             18.7066              </td><td style=\"text-align: center;\">                27.4635                 </td><td style=\"text-align: center;\">           607209            </td><td style=\"text-align: center;\">               5.3457                </td><td style=\"text-align: center;\">  14  </td></tr>\n",
       "<tr><td style=\"text-align: center;\">Design_Option_18</td><td style=\"text-align: center;\">     2.64388e+06      </td><td style=\"text-align: center;\">        38.2746        </td><td style=\"text-align: center;\">              28.1137              </td><td style=\"text-align: center;\">           5117.58           </td><td style=\"text-align: center;\">         116149         </td><td style=\"text-align: center;\">             22.7627              </td><td style=\"text-align: center;\">                22.6961                 </td><td style=\"text-align: center;\">           656069            </td><td style=\"text-align: center;\">               4.39315               </td><td style=\"text-align: center;\">  12  </td></tr>\n",
       "<tr><td style=\"text-align: center;\">Design_Option_19</td><td style=\"text-align: center;\">     2.50118e+06      </td><td style=\"text-align: center;\">        36.3025        </td><td style=\"text-align: center;\">              44.3375              </td><td style=\"text-align: center;\">           4039.21           </td><td style=\"text-align: center;\">         154560         </td><td style=\"text-align: center;\">             16.1826              </td><td style=\"text-align: center;\">                38.2649                 </td><td style=\"text-align: center;\">           646492            </td><td style=\"text-align: center;\">               6.17949               </td><td style=\"text-align: center;\">  17  </td></tr>\n",
       "<tr><td style=\"text-align: center;\">Design_Option_20</td><td style=\"text-align: center;\">     2.05043e+06      </td><td style=\"text-align: center;\">        24.6837        </td><td style=\"text-align: center;\">              33.7731              </td><td style=\"text-align: center;\">           8190.8            </td><td style=\"text-align: center;\">         64290          </td><td style=\"text-align: center;\">             31.8934              </td><td style=\"text-align: center;\">                7.84905                 </td><td style=\"text-align: center;\">           569935            </td><td style=\"text-align: center;\">               3.13544               </td><td style=\"text-align: center;\">  1   </td></tr>\n",
       "</tbody>\n",
       "</table></div>"
      ],
      "text/plain": [
       "WeightedProduct (mnorm=sum, wnorm=sum) - Solution:\n",
       "   ALT./CRIT.      SUNHOURS (min) W.0.5    VISBILITY (min) W.0.5    ACCESS TO SKY GARDENS (min) W.0.5    AREA OF GARDENS (min) W.0.5    FLOOR AREA (min) W.0.5    SUN HOURS/FLOOR AREA (min) W.0.5    FLOOR AREA/AREA OF GARDENS (min) W.0.5    TOTAL RADIATION (min) W.0.5    SUN_HOURS TO FLOOR AREA (min) W.0.5    Rank\n",
       "----------------  ----------------------  -----------------------  -----------------------------------  -----------------------------  ------------------------  ----------------------------------  ----------------------------------------  -----------------------------  -------------------------------------  ------\n",
       "Design_Option_1        2.42783e+06                29.4407                        35.3805                           5151.72                      103500                        23.4573                                20.0904                              652733                             4.26307                   6\n",
       "Design_Option_2        3.71179e+06                35.3575                        31.5588                           5294.06                      181807                        20.4161                                34.3417                            1.0308e+06                           4.89809                   20\n",
       "Design_Option_3        3.29419e+06                38.0636                        21.8758                           3318.62                      156119                        21.1005                                47.0434                              896885                             4.73922                   16\n",
       "Design_Option_4        2.37825e+06                31.8922                        28.0335                           4585.42                      126561                        18.7913                                27.6008                              671391                             5.32162                   8\n",
       "Design_Option_5        2.16806e+06                30.7398                        44.9718                           5350.86                      125168                        17.3213                                 23.392                              601878                             5.77324                   13\n",
       "Design_Option_6        2.21713e+06                37.6298                        50.5782                           3697.97                     98662.8                        22.4718                                26.6802                              561109                             4.45002                   9\n",
       "Design_Option_7        2.95652e+06                35.7792                        46.9354                           3565.06                      152652                        19.3677                                 42.819                              756407                             5.16322                   18\n",
       "Design_Option_8         2.5622e+06                34.1431                        51.8025                           5287.9                       132069                        19.4004                                24.9757                              667882                             5.15452                   15\n",
       "Design_Option_9        2.38818e+06                38.8163                        48.8501                           6970.93                      94902                         25.1647                                 13.614                              595271                             3.97382                   11\n",
       "Design_Option_10       1.92034e+06                28.9204                        32.3342                           7263.73                     65565.2                         29.289                                9.02638                              536987                             3.41425                   2\n",
       "Design_Option_11       2.00677e+06                30.3836                        27.4104                           6559.12                     76681.1                        26.1703                                11.6908                              554855                             3.82113                   3\n",
       "Design_Option_12       2.52898e+06                24.3167                        29.853                            4734.35                      113400                        22.3014                                23.9526                              649485                             4.48402                   4\n",
       "Design_Option_13       2.62007e+06                35.6497                        15.425                            2686.36                      127174                        20.6023                                47.3404                              683524                             4.85382                   5\n",
       "Design_Option_14       2.19717e+06                35.4666                        45.8611                           5529.29                      103689                        21.1901                                18.7527                              572854                             4.71919                   7\n",
       "Design_Option_15       2.63831e+06                36.7689                        22.8801                           5237.45                      121884                         21.646                                23.2716                              709586                             4.61978                   10\n",
       "Design_Option_16       2.74426e+06                39.1702                        54.604                            5381.72                      167913                        16.3433                                31.2006                              721842                             6.1187                    19\n",
       "Design_Option_17        2.2317e+06                32.2947                        47.5018                           4343.95                      119300                        18.7066                                27.4635                              607209                             5.3457                    14\n",
       "Design_Option_18       2.64388e+06                38.2746                        28.1137                           5117.58                      116149                        22.7627                                22.6961                              656069                             4.39315                   12\n",
       "Design_Option_19       2.50118e+06                36.3025                        44.3375                           4039.21                      154560                        16.1826                                38.2649                              646492                             6.17949                   17\n",
       "Design_Option_20       2.05043e+06                24.6837                        33.7731                           8190.8                       64290                         31.8934                                7.84905                              569935                             3.13544                   1"
      ]
     },
     "execution_count": 18,
     "metadata": {},
     "output_type": "execute_result"
    }
   ],
   "source": [
    "weighted_product_model = simple.WeightedProduct()\n",
    "dec_weighted_product = weighted_product_model.decide(data)\n",
    "dec_weighted_product"
   ]
  },
  {
   "cell_type": "code",
   "execution_count": 19,
   "metadata": {},
   "outputs": [
    {
     "data": {
      "text/html": [
       "<div id='dec-2278f37a-b315-11eb-b0f2-244bfe5c9e98'><p><b>TOPSIS (mnorm=vector, wnorm=sum) - Solution:</b></p><table>\n",
       "<thead>\n",
       "<tr><th style=\"text-align: center;\">   ALT./CRIT.   </th><th style=\"text-align: center;\"> SUNHOURS (min) W.0.5 </th><th style=\"text-align: center;\"> VISBILITY (min) W.0.5 </th><th style=\"text-align: center;\"> ACCESS TO SKY GARDENS (min) W.0.5 </th><th style=\"text-align: center;\"> AREA OF GARDENS (min) W.0.5 </th><th style=\"text-align: center;\"> FLOOR AREA (min) W.0.5 </th><th style=\"text-align: center;\"> SUN HOURS/FLOOR AREA (min) W.0.5 </th><th style=\"text-align: center;\"> FLOOR AREA/AREA OF GARDENS (min) W.0.5 </th><th style=\"text-align: center;\"> TOTAL RADIATION (min) W.0.5 </th><th style=\"text-align: center;\"> SUN_HOURS TO FLOOR AREA (min) W.0.5 </th><th style=\"text-align: center;\"> Rank </th></tr>\n",
       "</thead>\n",
       "<tbody>\n",
       "<tr><td style=\"text-align: center;\">Design_Option_1 </td><td style=\"text-align: center;\">     2.42783e+06      </td><td style=\"text-align: center;\">        29.4407        </td><td style=\"text-align: center;\">              35.3805              </td><td style=\"text-align: center;\">           5151.72           </td><td style=\"text-align: center;\">         103500         </td><td style=\"text-align: center;\">             23.4573              </td><td style=\"text-align: center;\">                20.0904                 </td><td style=\"text-align: center;\">           652733            </td><td style=\"text-align: center;\">               4.26307               </td><td style=\"text-align: center;\">  4   </td></tr>\n",
       "<tr><td style=\"text-align: center;\">Design_Option_2 </td><td style=\"text-align: center;\">     3.71179e+06      </td><td style=\"text-align: center;\">        35.3575        </td><td style=\"text-align: center;\">              31.5588              </td><td style=\"text-align: center;\">           5294.06           </td><td style=\"text-align: center;\">         181807         </td><td style=\"text-align: center;\">             20.4161              </td><td style=\"text-align: center;\">                34.3417                 </td><td style=\"text-align: center;\">         1.0308e+06          </td><td style=\"text-align: center;\">               4.89809               </td><td style=\"text-align: center;\">  20  </td></tr>\n",
       "<tr><td style=\"text-align: center;\">Design_Option_3 </td><td style=\"text-align: center;\">     3.29419e+06      </td><td style=\"text-align: center;\">        38.0636        </td><td style=\"text-align: center;\">              21.8758              </td><td style=\"text-align: center;\">           3318.62           </td><td style=\"text-align: center;\">         156119         </td><td style=\"text-align: center;\">             21.1005              </td><td style=\"text-align: center;\">                47.0434                 </td><td style=\"text-align: center;\">           896885            </td><td style=\"text-align: center;\">               4.73922               </td><td style=\"text-align: center;\">  17  </td></tr>\n",
       "<tr><td style=\"text-align: center;\">Design_Option_4 </td><td style=\"text-align: center;\">     2.37825e+06      </td><td style=\"text-align: center;\">        31.8922        </td><td style=\"text-align: center;\">              28.0335              </td><td style=\"text-align: center;\">           4585.42           </td><td style=\"text-align: center;\">         126561         </td><td style=\"text-align: center;\">             18.7913              </td><td style=\"text-align: center;\">                27.6008                 </td><td style=\"text-align: center;\">           671391            </td><td style=\"text-align: center;\">               5.32162               </td><td style=\"text-align: center;\">  9   </td></tr>\n",
       "<tr><td style=\"text-align: center;\">Design_Option_5 </td><td style=\"text-align: center;\">     2.16806e+06      </td><td style=\"text-align: center;\">        30.7398        </td><td style=\"text-align: center;\">              44.9718              </td><td style=\"text-align: center;\">           5350.86           </td><td style=\"text-align: center;\">         125168         </td><td style=\"text-align: center;\">             17.3213              </td><td style=\"text-align: center;\">                 23.392                 </td><td style=\"text-align: center;\">           601878            </td><td style=\"text-align: center;\">               5.77324               </td><td style=\"text-align: center;\">  12  </td></tr>\n",
       "<tr><td style=\"text-align: center;\">Design_Option_6 </td><td style=\"text-align: center;\">     2.21713e+06      </td><td style=\"text-align: center;\">        37.6298        </td><td style=\"text-align: center;\">              50.5782              </td><td style=\"text-align: center;\">           3697.97           </td><td style=\"text-align: center;\">        98662.8         </td><td style=\"text-align: center;\">             22.4718              </td><td style=\"text-align: center;\">                26.6802                 </td><td style=\"text-align: center;\">           561109            </td><td style=\"text-align: center;\">               4.45002               </td><td style=\"text-align: center;\">  10  </td></tr>\n",
       "<tr><td style=\"text-align: center;\">Design_Option_7 </td><td style=\"text-align: center;\">     2.95652e+06      </td><td style=\"text-align: center;\">        35.7792        </td><td style=\"text-align: center;\">              46.9354              </td><td style=\"text-align: center;\">           3565.06           </td><td style=\"text-align: center;\">         152652         </td><td style=\"text-align: center;\">             19.3677              </td><td style=\"text-align: center;\">                 42.819                 </td><td style=\"text-align: center;\">           756407            </td><td style=\"text-align: center;\">               5.16322               </td><td style=\"text-align: center;\">  18  </td></tr>\n",
       "<tr><td style=\"text-align: center;\">Design_Option_8 </td><td style=\"text-align: center;\">      2.5622e+06      </td><td style=\"text-align: center;\">        34.1431        </td><td style=\"text-align: center;\">              51.8025              </td><td style=\"text-align: center;\">           5287.9            </td><td style=\"text-align: center;\">         132069         </td><td style=\"text-align: center;\">             19.4004              </td><td style=\"text-align: center;\">                24.9757                 </td><td style=\"text-align: center;\">           667882            </td><td style=\"text-align: center;\">               5.15452               </td><td style=\"text-align: center;\">  15  </td></tr>\n",
       "<tr><td style=\"text-align: center;\">Design_Option_9 </td><td style=\"text-align: center;\">     2.38818e+06      </td><td style=\"text-align: center;\">        38.8163        </td><td style=\"text-align: center;\">              48.8501              </td><td style=\"text-align: center;\">           6970.93           </td><td style=\"text-align: center;\">         94902          </td><td style=\"text-align: center;\">             25.1647              </td><td style=\"text-align: center;\">                 13.614                 </td><td style=\"text-align: center;\">           595271            </td><td style=\"text-align: center;\">               3.97382               </td><td style=\"text-align: center;\">  11  </td></tr>\n",
       "<tr><td style=\"text-align: center;\">Design_Option_10</td><td style=\"text-align: center;\">     1.92034e+06      </td><td style=\"text-align: center;\">        28.9204        </td><td style=\"text-align: center;\">              32.3342              </td><td style=\"text-align: center;\">           7263.73           </td><td style=\"text-align: center;\">        65565.2         </td><td style=\"text-align: center;\">              29.289              </td><td style=\"text-align: center;\">                9.02638                 </td><td style=\"text-align: center;\">           536987            </td><td style=\"text-align: center;\">               3.41425               </td><td style=\"text-align: center;\">  2   </td></tr>\n",
       "<tr><td style=\"text-align: center;\">Design_Option_11</td><td style=\"text-align: center;\">     2.00677e+06      </td><td style=\"text-align: center;\">        30.3836        </td><td style=\"text-align: center;\">              27.4104              </td><td style=\"text-align: center;\">           6559.12           </td><td style=\"text-align: center;\">        76681.1         </td><td style=\"text-align: center;\">             26.1703              </td><td style=\"text-align: center;\">                11.6908                 </td><td style=\"text-align: center;\">           554855            </td><td style=\"text-align: center;\">               3.82113               </td><td style=\"text-align: center;\">  1   </td></tr>\n",
       "<tr><td style=\"text-align: center;\">Design_Option_12</td><td style=\"text-align: center;\">     2.52898e+06      </td><td style=\"text-align: center;\">        24.3167        </td><td style=\"text-align: center;\">              29.853               </td><td style=\"text-align: center;\">           4734.35           </td><td style=\"text-align: center;\">         113400         </td><td style=\"text-align: center;\">             22.3014              </td><td style=\"text-align: center;\">                23.9526                 </td><td style=\"text-align: center;\">           649485            </td><td style=\"text-align: center;\">               4.48402               </td><td style=\"text-align: center;\">  3   </td></tr>\n",
       "<tr><td style=\"text-align: center;\">Design_Option_13</td><td style=\"text-align: center;\">     2.62007e+06      </td><td style=\"text-align: center;\">        35.6497        </td><td style=\"text-align: center;\">              15.425               </td><td style=\"text-align: center;\">           2686.36           </td><td style=\"text-align: center;\">         127174         </td><td style=\"text-align: center;\">             20.6023              </td><td style=\"text-align: center;\">                47.3404                 </td><td style=\"text-align: center;\">           683524            </td><td style=\"text-align: center;\">               4.85382               </td><td style=\"text-align: center;\">  14  </td></tr>\n",
       "<tr><td style=\"text-align: center;\">Design_Option_14</td><td style=\"text-align: center;\">     2.19717e+06      </td><td style=\"text-align: center;\">        35.4666        </td><td style=\"text-align: center;\">              45.8611              </td><td style=\"text-align: center;\">           5529.29           </td><td style=\"text-align: center;\">         103689         </td><td style=\"text-align: center;\">             21.1901              </td><td style=\"text-align: center;\">                18.7527                 </td><td style=\"text-align: center;\">           572854            </td><td style=\"text-align: center;\">               4.71919               </td><td style=\"text-align: center;\">  8   </td></tr>\n",
       "<tr><td style=\"text-align: center;\">Design_Option_15</td><td style=\"text-align: center;\">     2.63831e+06      </td><td style=\"text-align: center;\">        36.7689        </td><td style=\"text-align: center;\">              22.8801              </td><td style=\"text-align: center;\">           5237.45           </td><td style=\"text-align: center;\">         121884         </td><td style=\"text-align: center;\">              21.646              </td><td style=\"text-align: center;\">                23.2716                 </td><td style=\"text-align: center;\">           709586            </td><td style=\"text-align: center;\">               4.61978               </td><td style=\"text-align: center;\">  6   </td></tr>\n",
       "<tr><td style=\"text-align: center;\">Design_Option_16</td><td style=\"text-align: center;\">     2.74426e+06      </td><td style=\"text-align: center;\">        39.1702        </td><td style=\"text-align: center;\">              54.604               </td><td style=\"text-align: center;\">           5381.72           </td><td style=\"text-align: center;\">         167913         </td><td style=\"text-align: center;\">             16.3433              </td><td style=\"text-align: center;\">                31.2006                 </td><td style=\"text-align: center;\">           721842            </td><td style=\"text-align: center;\">               6.1187                </td><td style=\"text-align: center;\">  19  </td></tr>\n",
       "<tr><td style=\"text-align: center;\">Design_Option_17</td><td style=\"text-align: center;\">      2.2317e+06      </td><td style=\"text-align: center;\">        32.2947        </td><td style=\"text-align: center;\">              47.5018              </td><td style=\"text-align: center;\">           4343.95           </td><td style=\"text-align: center;\">         119300         </td><td style=\"text-align: center;\">             18.7066              </td><td style=\"text-align: center;\">                27.4635                 </td><td style=\"text-align: center;\">           607209            </td><td style=\"text-align: center;\">               5.3457                </td><td style=\"text-align: center;\">  13  </td></tr>\n",
       "<tr><td style=\"text-align: center;\">Design_Option_18</td><td style=\"text-align: center;\">     2.64388e+06      </td><td style=\"text-align: center;\">        38.2746        </td><td style=\"text-align: center;\">              28.1137              </td><td style=\"text-align: center;\">           5117.58           </td><td style=\"text-align: center;\">         116149         </td><td style=\"text-align: center;\">             22.7627              </td><td style=\"text-align: center;\">                22.6961                 </td><td style=\"text-align: center;\">           656069            </td><td style=\"text-align: center;\">               4.39315               </td><td style=\"text-align: center;\">  7   </td></tr>\n",
       "<tr><td style=\"text-align: center;\">Design_Option_19</td><td style=\"text-align: center;\">     2.50118e+06      </td><td style=\"text-align: center;\">        36.3025        </td><td style=\"text-align: center;\">              44.3375              </td><td style=\"text-align: center;\">           4039.21           </td><td style=\"text-align: center;\">         154560         </td><td style=\"text-align: center;\">             16.1826              </td><td style=\"text-align: center;\">                38.2649                 </td><td style=\"text-align: center;\">           646492            </td><td style=\"text-align: center;\">               6.17949               </td><td style=\"text-align: center;\">  16  </td></tr>\n",
       "<tr><td style=\"text-align: center;\">Design_Option_20</td><td style=\"text-align: center;\">     2.05043e+06      </td><td style=\"text-align: center;\">        24.6837        </td><td style=\"text-align: center;\">              33.7731              </td><td style=\"text-align: center;\">           8190.8            </td><td style=\"text-align: center;\">         64290          </td><td style=\"text-align: center;\">             31.8934              </td><td style=\"text-align: center;\">                7.84905                 </td><td style=\"text-align: center;\">           569935            </td><td style=\"text-align: center;\">               3.13544               </td><td style=\"text-align: center;\">  5   </td></tr>\n",
       "</tbody>\n",
       "</table></div>"
      ],
      "text/plain": [
       "TOPSIS (mnorm=vector, wnorm=sum) - Solution:\n",
       "   ALT./CRIT.      SUNHOURS (min) W.0.5    VISBILITY (min) W.0.5    ACCESS TO SKY GARDENS (min) W.0.5    AREA OF GARDENS (min) W.0.5    FLOOR AREA (min) W.0.5    SUN HOURS/FLOOR AREA (min) W.0.5    FLOOR AREA/AREA OF GARDENS (min) W.0.5    TOTAL RADIATION (min) W.0.5    SUN_HOURS TO FLOOR AREA (min) W.0.5    Rank\n",
       "----------------  ----------------------  -----------------------  -----------------------------------  -----------------------------  ------------------------  ----------------------------------  ----------------------------------------  -----------------------------  -------------------------------------  ------\n",
       "Design_Option_1        2.42783e+06                29.4407                        35.3805                           5151.72                      103500                        23.4573                                20.0904                              652733                             4.26307                   4\n",
       "Design_Option_2        3.71179e+06                35.3575                        31.5588                           5294.06                      181807                        20.4161                                34.3417                            1.0308e+06                           4.89809                   20\n",
       "Design_Option_3        3.29419e+06                38.0636                        21.8758                           3318.62                      156119                        21.1005                                47.0434                              896885                             4.73922                   17\n",
       "Design_Option_4        2.37825e+06                31.8922                        28.0335                           4585.42                      126561                        18.7913                                27.6008                              671391                             5.32162                   9\n",
       "Design_Option_5        2.16806e+06                30.7398                        44.9718                           5350.86                      125168                        17.3213                                 23.392                              601878                             5.77324                   12\n",
       "Design_Option_6        2.21713e+06                37.6298                        50.5782                           3697.97                     98662.8                        22.4718                                26.6802                              561109                             4.45002                   10\n",
       "Design_Option_7        2.95652e+06                35.7792                        46.9354                           3565.06                      152652                        19.3677                                 42.819                              756407                             5.16322                   18\n",
       "Design_Option_8         2.5622e+06                34.1431                        51.8025                           5287.9                       132069                        19.4004                                24.9757                              667882                             5.15452                   15\n",
       "Design_Option_9        2.38818e+06                38.8163                        48.8501                           6970.93                      94902                         25.1647                                 13.614                              595271                             3.97382                   11\n",
       "Design_Option_10       1.92034e+06                28.9204                        32.3342                           7263.73                     65565.2                         29.289                                9.02638                              536987                             3.41425                   2\n",
       "Design_Option_11       2.00677e+06                30.3836                        27.4104                           6559.12                     76681.1                        26.1703                                11.6908                              554855                             3.82113                   1\n",
       "Design_Option_12       2.52898e+06                24.3167                        29.853                            4734.35                      113400                        22.3014                                23.9526                              649485                             4.48402                   3\n",
       "Design_Option_13       2.62007e+06                35.6497                        15.425                            2686.36                      127174                        20.6023                                47.3404                              683524                             4.85382                   14\n",
       "Design_Option_14       2.19717e+06                35.4666                        45.8611                           5529.29                      103689                        21.1901                                18.7527                              572854                             4.71919                   8\n",
       "Design_Option_15       2.63831e+06                36.7689                        22.8801                           5237.45                      121884                         21.646                                23.2716                              709586                             4.61978                   6\n",
       "Design_Option_16       2.74426e+06                39.1702                        54.604                            5381.72                      167913                        16.3433                                31.2006                              721842                             6.1187                    19\n",
       "Design_Option_17        2.2317e+06                32.2947                        47.5018                           4343.95                      119300                        18.7066                                27.4635                              607209                             5.3457                    13\n",
       "Design_Option_18       2.64388e+06                38.2746                        28.1137                           5117.58                      116149                        22.7627                                22.6961                              656069                             4.39315                   7\n",
       "Design_Option_19       2.50118e+06                36.3025                        44.3375                           4039.21                      154560                        16.1826                                38.2649                              646492                             6.17949                   16\n",
       "Design_Option_20       2.05043e+06                24.6837                        33.7731                           8190.8                       64290                         31.8934                                7.84905                              569935                             3.13544                   5"
      ]
     },
     "execution_count": 19,
     "metadata": {},
     "output_type": "execute_result"
    }
   ],
   "source": [
    "topsis_method = closeness.TOPSIS()\n",
    "topsis_decision = topsis_method.decide(data)\n",
    "topsis_decision"
   ]
  },
  {
   "cell_type": "code",
   "execution_count": 20,
   "metadata": {},
   "outputs": [
    {
     "data": {
      "text/html": [
       "<div id='dec-235a44b7-b315-11eb-bdb8-244bfe5c9e98'><p><b>ELECTRE1 (mnorm=sum, p=0.65, q=0.35, wnorm=sum) - Solution:</b></p><table>\n",
       "<thead>\n",
       "<tr><th style=\"text-align: center;\">   ALT./CRIT.   </th><th style=\"text-align: center;\"> SUNHOURS (min) W.0.5 </th><th style=\"text-align: center;\"> VISBILITY (min) W.0.5 </th><th style=\"text-align: center;\"> ACCESS TO SKY GARDENS (min) W.0.5 </th><th style=\"text-align: center;\"> AREA OF GARDENS (min) W.0.5 </th><th style=\"text-align: center;\"> FLOOR AREA (min) W.0.5 </th><th style=\"text-align: center;\"> SUN HOURS/FLOOR AREA (min) W.0.5 </th><th style=\"text-align: center;\"> FLOOR AREA/AREA OF GARDENS (min) W.0.5 </th><th style=\"text-align: center;\"> TOTAL RADIATION (min) W.0.5 </th><th style=\"text-align: center;\"> SUN_HOURS TO FLOOR AREA (min) W.0.5 </th><th style=\"text-align: center;\"> Kernel </th></tr>\n",
       "</thead>\n",
       "<tbody>\n",
       "<tr><td style=\"text-align: center;\">Design_Option_1 </td><td style=\"text-align: center;\">     2.42783e+06      </td><td style=\"text-align: center;\">        29.4407        </td><td style=\"text-align: center;\">              35.3805              </td><td style=\"text-align: center;\">           5151.72           </td><td style=\"text-align: center;\">         103500         </td><td style=\"text-align: center;\">             23.4573              </td><td style=\"text-align: center;\">                20.0904                 </td><td style=\"text-align: center;\">           652733            </td><td style=\"text-align: center;\">               4.26307               </td><td style=\"text-align: center;\">        </td></tr>\n",
       "<tr><td style=\"text-align: center;\">Design_Option_2 </td><td style=\"text-align: center;\">     3.71179e+06      </td><td style=\"text-align: center;\">        35.3575        </td><td style=\"text-align: center;\">              31.5588              </td><td style=\"text-align: center;\">           5294.06           </td><td style=\"text-align: center;\">         181807         </td><td style=\"text-align: center;\">             20.4161              </td><td style=\"text-align: center;\">                34.3417                 </td><td style=\"text-align: center;\">         1.0308e+06          </td><td style=\"text-align: center;\">               4.89809               </td><td style=\"text-align: center;\">        </td></tr>\n",
       "<tr><td style=\"text-align: center;\">Design_Option_3 </td><td style=\"text-align: center;\">     3.29419e+06      </td><td style=\"text-align: center;\">        38.0636        </td><td style=\"text-align: center;\">              21.8758              </td><td style=\"text-align: center;\">           3318.62           </td><td style=\"text-align: center;\">         156119         </td><td style=\"text-align: center;\">             21.1005              </td><td style=\"text-align: center;\">                47.0434                 </td><td style=\"text-align: center;\">           896885            </td><td style=\"text-align: center;\">               4.73922               </td><td style=\"text-align: center;\">        </td></tr>\n",
       "<tr><td style=\"text-align: center;\">Design_Option_4 </td><td style=\"text-align: center;\">     2.37825e+06      </td><td style=\"text-align: center;\">        31.8922        </td><td style=\"text-align: center;\">              28.0335              </td><td style=\"text-align: center;\">           4585.42           </td><td style=\"text-align: center;\">         126561         </td><td style=\"text-align: center;\">             18.7913              </td><td style=\"text-align: center;\">                27.6008                 </td><td style=\"text-align: center;\">           671391            </td><td style=\"text-align: center;\">               5.32162               </td><td style=\"text-align: center;\">        </td></tr>\n",
       "<tr><td style=\"text-align: center;\">Design_Option_5 </td><td style=\"text-align: center;\">     2.16806e+06      </td><td style=\"text-align: center;\">        30.7398        </td><td style=\"text-align: center;\">              44.9718              </td><td style=\"text-align: center;\">           5350.86           </td><td style=\"text-align: center;\">         125168         </td><td style=\"text-align: center;\">             17.3213              </td><td style=\"text-align: center;\">                 23.392                 </td><td style=\"text-align: center;\">           601878            </td><td style=\"text-align: center;\">               5.77324               </td><td style=\"text-align: center;\">        </td></tr>\n",
       "<tr><td style=\"text-align: center;\">Design_Option_6 </td><td style=\"text-align: center;\">     2.21713e+06      </td><td style=\"text-align: center;\">        37.6298        </td><td style=\"text-align: center;\">              50.5782              </td><td style=\"text-align: center;\">           3697.97           </td><td style=\"text-align: center;\">        98662.8         </td><td style=\"text-align: center;\">             22.4718              </td><td style=\"text-align: center;\">                26.6802                 </td><td style=\"text-align: center;\">           561109            </td><td style=\"text-align: center;\">               4.45002               </td><td style=\"text-align: center;\">   @    </td></tr>\n",
       "<tr><td style=\"text-align: center;\">Design_Option_7 </td><td style=\"text-align: center;\">     2.95652e+06      </td><td style=\"text-align: center;\">        35.7792        </td><td style=\"text-align: center;\">              46.9354              </td><td style=\"text-align: center;\">           3565.06           </td><td style=\"text-align: center;\">         152652         </td><td style=\"text-align: center;\">             19.3677              </td><td style=\"text-align: center;\">                 42.819                 </td><td style=\"text-align: center;\">           756407            </td><td style=\"text-align: center;\">               5.16322               </td><td style=\"text-align: center;\">        </td></tr>\n",
       "<tr><td style=\"text-align: center;\">Design_Option_8 </td><td style=\"text-align: center;\">      2.5622e+06      </td><td style=\"text-align: center;\">        34.1431        </td><td style=\"text-align: center;\">              51.8025              </td><td style=\"text-align: center;\">           5287.9            </td><td style=\"text-align: center;\">         132069         </td><td style=\"text-align: center;\">             19.4004              </td><td style=\"text-align: center;\">                24.9757                 </td><td style=\"text-align: center;\">           667882            </td><td style=\"text-align: center;\">               5.15452               </td><td style=\"text-align: center;\">        </td></tr>\n",
       "<tr><td style=\"text-align: center;\">Design_Option_9 </td><td style=\"text-align: center;\">     2.38818e+06      </td><td style=\"text-align: center;\">        38.8163        </td><td style=\"text-align: center;\">              48.8501              </td><td style=\"text-align: center;\">           6970.93           </td><td style=\"text-align: center;\">         94902          </td><td style=\"text-align: center;\">             25.1647              </td><td style=\"text-align: center;\">                 13.614                 </td><td style=\"text-align: center;\">           595271            </td><td style=\"text-align: center;\">               3.97382               </td><td style=\"text-align: center;\">        </td></tr>\n",
       "<tr><td style=\"text-align: center;\">Design_Option_10</td><td style=\"text-align: center;\">     1.92034e+06      </td><td style=\"text-align: center;\">        28.9204        </td><td style=\"text-align: center;\">              32.3342              </td><td style=\"text-align: center;\">           7263.73           </td><td style=\"text-align: center;\">        65565.2         </td><td style=\"text-align: center;\">              29.289              </td><td style=\"text-align: center;\">                9.02638                 </td><td style=\"text-align: center;\">           536987            </td><td style=\"text-align: center;\">               3.41425               </td><td style=\"text-align: center;\">   @    </td></tr>\n",
       "<tr><td style=\"text-align: center;\">Design_Option_11</td><td style=\"text-align: center;\">     2.00677e+06      </td><td style=\"text-align: center;\">        30.3836        </td><td style=\"text-align: center;\">              27.4104              </td><td style=\"text-align: center;\">           6559.12           </td><td style=\"text-align: center;\">        76681.1         </td><td style=\"text-align: center;\">             26.1703              </td><td style=\"text-align: center;\">                11.6908                 </td><td style=\"text-align: center;\">           554855            </td><td style=\"text-align: center;\">               3.82113               </td><td style=\"text-align: center;\">        </td></tr>\n",
       "<tr><td style=\"text-align: center;\">Design_Option_12</td><td style=\"text-align: center;\">     2.52898e+06      </td><td style=\"text-align: center;\">        24.3167        </td><td style=\"text-align: center;\">              29.853               </td><td style=\"text-align: center;\">           4734.35           </td><td style=\"text-align: center;\">         113400         </td><td style=\"text-align: center;\">             22.3014              </td><td style=\"text-align: center;\">                23.9526                 </td><td style=\"text-align: center;\">           649485            </td><td style=\"text-align: center;\">               4.48402               </td><td style=\"text-align: center;\">        </td></tr>\n",
       "<tr><td style=\"text-align: center;\">Design_Option_13</td><td style=\"text-align: center;\">     2.62007e+06      </td><td style=\"text-align: center;\">        35.6497        </td><td style=\"text-align: center;\">              15.425               </td><td style=\"text-align: center;\">           2686.36           </td><td style=\"text-align: center;\">         127174         </td><td style=\"text-align: center;\">             20.6023              </td><td style=\"text-align: center;\">                47.3404                 </td><td style=\"text-align: center;\">           683524            </td><td style=\"text-align: center;\">               4.85382               </td><td style=\"text-align: center;\">        </td></tr>\n",
       "<tr><td style=\"text-align: center;\">Design_Option_14</td><td style=\"text-align: center;\">     2.19717e+06      </td><td style=\"text-align: center;\">        35.4666        </td><td style=\"text-align: center;\">              45.8611              </td><td style=\"text-align: center;\">           5529.29           </td><td style=\"text-align: center;\">         103689         </td><td style=\"text-align: center;\">             21.1901              </td><td style=\"text-align: center;\">                18.7527                 </td><td style=\"text-align: center;\">           572854            </td><td style=\"text-align: center;\">               4.71919               </td><td style=\"text-align: center;\">        </td></tr>\n",
       "<tr><td style=\"text-align: center;\">Design_Option_15</td><td style=\"text-align: center;\">     2.63831e+06      </td><td style=\"text-align: center;\">        36.7689        </td><td style=\"text-align: center;\">              22.8801              </td><td style=\"text-align: center;\">           5237.45           </td><td style=\"text-align: center;\">         121884         </td><td style=\"text-align: center;\">              21.646              </td><td style=\"text-align: center;\">                23.2716                 </td><td style=\"text-align: center;\">           709586            </td><td style=\"text-align: center;\">               4.61978               </td><td style=\"text-align: center;\">        </td></tr>\n",
       "<tr><td style=\"text-align: center;\">Design_Option_16</td><td style=\"text-align: center;\">     2.74426e+06      </td><td style=\"text-align: center;\">        39.1702        </td><td style=\"text-align: center;\">              54.604               </td><td style=\"text-align: center;\">           5381.72           </td><td style=\"text-align: center;\">         167913         </td><td style=\"text-align: center;\">             16.3433              </td><td style=\"text-align: center;\">                31.2006                 </td><td style=\"text-align: center;\">           721842            </td><td style=\"text-align: center;\">               6.1187                </td><td style=\"text-align: center;\">        </td></tr>\n",
       "<tr><td style=\"text-align: center;\">Design_Option_17</td><td style=\"text-align: center;\">      2.2317e+06      </td><td style=\"text-align: center;\">        32.2947        </td><td style=\"text-align: center;\">              47.5018              </td><td style=\"text-align: center;\">           4343.95           </td><td style=\"text-align: center;\">         119300         </td><td style=\"text-align: center;\">             18.7066              </td><td style=\"text-align: center;\">                27.4635                 </td><td style=\"text-align: center;\">           607209            </td><td style=\"text-align: center;\">               5.3457                </td><td style=\"text-align: center;\">        </td></tr>\n",
       "<tr><td style=\"text-align: center;\">Design_Option_18</td><td style=\"text-align: center;\">     2.64388e+06      </td><td style=\"text-align: center;\">        38.2746        </td><td style=\"text-align: center;\">              28.1137              </td><td style=\"text-align: center;\">           5117.58           </td><td style=\"text-align: center;\">         116149         </td><td style=\"text-align: center;\">             22.7627              </td><td style=\"text-align: center;\">                22.6961                 </td><td style=\"text-align: center;\">           656069            </td><td style=\"text-align: center;\">               4.39315               </td><td style=\"text-align: center;\">        </td></tr>\n",
       "<tr><td style=\"text-align: center;\">Design_Option_19</td><td style=\"text-align: center;\">     2.50118e+06      </td><td style=\"text-align: center;\">        36.3025        </td><td style=\"text-align: center;\">              44.3375              </td><td style=\"text-align: center;\">           4039.21           </td><td style=\"text-align: center;\">         154560         </td><td style=\"text-align: center;\">             16.1826              </td><td style=\"text-align: center;\">                38.2649                 </td><td style=\"text-align: center;\">           646492            </td><td style=\"text-align: center;\">               6.17949               </td><td style=\"text-align: center;\">        </td></tr>\n",
       "<tr><td style=\"text-align: center;\">Design_Option_20</td><td style=\"text-align: center;\">     2.05043e+06      </td><td style=\"text-align: center;\">        24.6837        </td><td style=\"text-align: center;\">              33.7731              </td><td style=\"text-align: center;\">           8190.8            </td><td style=\"text-align: center;\">         64290          </td><td style=\"text-align: center;\">             31.8934              </td><td style=\"text-align: center;\">                7.84905                 </td><td style=\"text-align: center;\">           569935            </td><td style=\"text-align: center;\">               3.13544               </td><td style=\"text-align: center;\">   @    </td></tr>\n",
       "</tbody>\n",
       "</table></div>"
      ],
      "text/plain": [
       "ELECTRE1 (mnorm=sum, p=0.65, q=0.35, wnorm=sum) - Solution:\n",
       "   ALT./CRIT.      SUNHOURS (min) W.0.5    VISBILITY (min) W.0.5    ACCESS TO SKY GARDENS (min) W.0.5    AREA OF GARDENS (min) W.0.5    FLOOR AREA (min) W.0.5    SUN HOURS/FLOOR AREA (min) W.0.5    FLOOR AREA/AREA OF GARDENS (min) W.0.5    TOTAL RADIATION (min) W.0.5    SUN_HOURS TO FLOOR AREA (min) W.0.5    Kernel\n",
       "----------------  ----------------------  -----------------------  -----------------------------------  -----------------------------  ------------------------  ----------------------------------  ----------------------------------------  -----------------------------  -------------------------------------  --------\n",
       "Design_Option_1        2.42783e+06                29.4407                        35.3805                           5151.72                      103500                        23.4573                                20.0904                              652733                             4.26307\n",
       "Design_Option_2        3.71179e+06                35.3575                        31.5588                           5294.06                      181807                        20.4161                                34.3417                            1.0308e+06                           4.89809\n",
       "Design_Option_3        3.29419e+06                38.0636                        21.8758                           3318.62                      156119                        21.1005                                47.0434                              896885                             4.73922\n",
       "Design_Option_4        2.37825e+06                31.8922                        28.0335                           4585.42                      126561                        18.7913                                27.6008                              671391                             5.32162\n",
       "Design_Option_5        2.16806e+06                30.7398                        44.9718                           5350.86                      125168                        17.3213                                 23.392                              601878                             5.77324\n",
       "Design_Option_6        2.21713e+06                37.6298                        50.5782                           3697.97                     98662.8                        22.4718                                26.6802                              561109                             4.45002                    @\n",
       "Design_Option_7        2.95652e+06                35.7792                        46.9354                           3565.06                      152652                        19.3677                                 42.819                              756407                             5.16322\n",
       "Design_Option_8         2.5622e+06                34.1431                        51.8025                           5287.9                       132069                        19.4004                                24.9757                              667882                             5.15452\n",
       "Design_Option_9        2.38818e+06                38.8163                        48.8501                           6970.93                      94902                         25.1647                                 13.614                              595271                             3.97382\n",
       "Design_Option_10       1.92034e+06                28.9204                        32.3342                           7263.73                     65565.2                         29.289                                9.02638                              536987                             3.41425                    @\n",
       "Design_Option_11       2.00677e+06                30.3836                        27.4104                           6559.12                     76681.1                        26.1703                                11.6908                              554855                             3.82113\n",
       "Design_Option_12       2.52898e+06                24.3167                        29.853                            4734.35                      113400                        22.3014                                23.9526                              649485                             4.48402\n",
       "Design_Option_13       2.62007e+06                35.6497                        15.425                            2686.36                      127174                        20.6023                                47.3404                              683524                             4.85382\n",
       "Design_Option_14       2.19717e+06                35.4666                        45.8611                           5529.29                      103689                        21.1901                                18.7527                              572854                             4.71919\n",
       "Design_Option_15       2.63831e+06                36.7689                        22.8801                           5237.45                      121884                         21.646                                23.2716                              709586                             4.61978\n",
       "Design_Option_16       2.74426e+06                39.1702                        54.604                            5381.72                      167913                        16.3433                                31.2006                              721842                             6.1187\n",
       "Design_Option_17        2.2317e+06                32.2947                        47.5018                           4343.95                      119300                        18.7066                                27.4635                              607209                             5.3457\n",
       "Design_Option_18       2.64388e+06                38.2746                        28.1137                           5117.58                      116149                        22.7627                                22.6961                              656069                             4.39315\n",
       "Design_Option_19       2.50118e+06                36.3025                        44.3375                           4039.21                      154560                        16.1826                                38.2649                              646492                             6.17949\n",
       "Design_Option_20       2.05043e+06                24.6837                        33.7731                           8190.8                       64290                         31.8934                                7.84905                              569935                             3.13544                    @"
      ]
     },
     "execution_count": 20,
     "metadata": {},
     "output_type": "execute_result"
    }
   ],
   "source": [
    "electre_method = electre.ELECTRE1()\n",
    "electre_decision=electre_method.decide(data)\n",
    "electre_decision"
   ]
  },
  {
   "cell_type": "markdown",
   "metadata": {},
   "source": [
    "# Selected Results"
   ]
  },
  {
   "cell_type": "code",
   "execution_count": 21,
   "metadata": {},
   "outputs": [],
   "source": [
    "name_NP_array=np.array(option_list)"
   ]
  },
  {
   "cell_type": "code",
   "execution_count": 22,
   "metadata": {},
   "outputs": [
    {
     "name": "stdout",
     "output_type": "stream",
     "text": [
      "weighted_sum [ 7 20 15 11 13  9 18 16  6  2  3  5  4  8 10 19 14 12 17  1]\n",
      "weighted_product [ 6 20 16  8 13  9 18 15 11  2  3  4  5  7 10 19 14 12 17  1]\n",
      "TOPSIS [ 4 20 17  9 12 10 18 15 11  2  1  3 14  8  6 19 13  7 16  5]\n"
     ]
    }
   ],
   "source": [
    "print(\"weighted_sum\",dec_weighted_sum.rank_)\n",
    "\n",
    "print(\"weighted_product\",dec_weighted_product.rank_)\n",
    "\n",
    "print(\"TOPSIS\",topsis_decision.rank_)"
   ]
  },
  {
   "cell_type": "code",
   "execution_count": 23,
   "metadata": {},
   "outputs": [],
   "source": [
    "rankings= topsis_decision.rank_"
   ]
  },
  {
   "cell_type": "code",
   "execution_count": 24,
   "metadata": {},
   "outputs": [
    {
     "name": "stdout",
     "output_type": "stream",
     "text": [
      "4\n",
      "20\n",
      "17\n",
      "9\n",
      "12\n",
      "10\n",
      "18\n",
      "15\n",
      "11\n",
      "2\n",
      "1\n",
      "3\n",
      "14\n",
      "8\n",
      "6\n",
      "19\n",
      "13\n",
      "7\n",
      "16\n",
      "5\n"
     ]
    }
   ],
   "source": [
    "for i in rankings:\n",
    "    print(i)"
   ]
  },
  {
   "cell_type": "code",
   "execution_count": null,
   "metadata": {},
   "outputs": [],
   "source": []
  },
  {
   "cell_type": "code",
   "execution_count": null,
   "metadata": {},
   "outputs": [],
   "source": []
  }
 ],
 "metadata": {
  "hide_input": false,
  "kernelspec": {
   "display_name": "Python 3",
   "language": "python",
   "name": "python3"
  },
  "language_info": {
   "codemirror_mode": {
    "name": "ipython",
    "version": 3
   },
   "file_extension": ".py",
   "mimetype": "text/x-python",
   "name": "python",
   "nbconvert_exporter": "python",
   "pygments_lexer": "ipython3",
   "version": "3.8.4"
  }
 },
 "nbformat": 4,
 "nbformat_minor": 4
}
